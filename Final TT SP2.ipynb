{
 "cells": [
  {
   "cell_type": "markdown",
   "id": "8486e39c",
   "metadata": {},
   "source": [
    "Goal : The mission is to clean up the data and prepare a report that gives insight into the shopping habits of Instacart customers. After answering each question, write a brief explanation of your results in a markdown cell of your Jupyter notebook.\n",
    "\n",
    "This project will require you to make plots that communicate your results. Make sure that any plots you create have a title, labeled axes, and a legend if necessary; and include plt.show() at the end of each cell with a plot."
   ]
  },
  {
   "cell_type": "code",
   "execution_count": 1,
   "id": "f54a3451",
   "metadata": {},
   "outputs": [],
   "source": [
    "import pandas as pd\n",
    "from matplotlib import pyplot as plt\n",
    "import numpy as np"
   ]
  },
  {
   "cell_type": "code",
   "execution_count": 2,
   "id": "ad36396d",
   "metadata": {},
   "outputs": [],
   "source": [
    "orders_df = pd.read_csv('/datasets/instacart_orders.csv', sep=';')\n",
    "products_df = pd.read_csv('/datasets/products.csv', sep=';')\n",
    "aisles_df = pd.read_csv('/datasets/aisles.csv', sep=';')\n",
    "depts_df = pd.read_csv('/datasets/departments.csv', sep=';')\n",
    "order_prdcts_df = pd.read_csv('/datasets/order_products.csv', sep=';')"
   ]
  },
  {
   "cell_type": "markdown",
   "id": "07357848-dc64-4156-9cc3-01ff4365226d",
   "metadata": {},
   "source": [
    "## Find and remove duplicate values (and describe why you make your choices)"
   ]
  },
  {
   "cell_type": "markdown",
   "id": "f179f0a9",
   "metadata": {},
   "source": [
    "### `orders` data frame"
   ]
  },
  {
   "cell_type": "code",
   "execution_count": 3,
   "id": "b99297a5-405a-463d-8535-9adc3da4ad74",
   "metadata": {},
   "outputs": [
    {
     "name": "stdout",
     "output_type": "stream",
     "text": [
      "<class 'pandas.core.frame.DataFrame'>\n",
      "RangeIndex: 478967 entries, 0 to 478966\n",
      "Data columns (total 6 columns):\n",
      " #   Column                  Non-Null Count   Dtype  \n",
      "---  ------                  --------------   -----  \n",
      " 0   order_id                478967 non-null  int64  \n",
      " 1   user_id                 478967 non-null  int64  \n",
      " 2   order_number            478967 non-null  int64  \n",
      " 3   order_dow               478967 non-null  int64  \n",
      " 4   order_hour_of_day       478967 non-null  int64  \n",
      " 5   days_since_prior_order  450148 non-null  float64\n",
      "dtypes: float64(1), int64(5)\n",
      "memory usage: 21.9 MB\n"
     ]
    }
   ],
   "source": [
    "# Check for duplicated orders\n",
    "\n",
    "orders_df.info(show_counts=True)"
   ]
  },
  {
   "cell_type": "code",
   "execution_count": 4,
   "id": "29e68deb",
   "metadata": {},
   "outputs": [
    {
     "data": {
      "text/plain": [
       "15"
      ]
     },
     "execution_count": 4,
     "metadata": {},
     "output_type": "execute_result"
    }
   ],
   "source": [
    "#orders_df.sample(30)\n",
    "orders_df.duplicated().sum()"
   ]
  },
  {
   "cell_type": "code",
   "execution_count": 5,
   "id": "0d44de5d",
   "metadata": {},
   "outputs": [
    {
     "name": "stdout",
     "output_type": "stream",
     "text": [
      "     order_id  user_id  order_number  order_dow  order_hour_of_day  \\\n",
      "43     698527    95296            58          3                 14   \n",
      "162     48662    22131             5          3                 14   \n",
      "319   1343043   194052             7          3                 14   \n",
      "560   1508728   178611            29          3                 14   \n",
      "780   2743463    72360            25          3                 14   \n",
      "\n",
      "     days_since_prior_order  \n",
      "43                     22.0  \n",
      "162                     3.0  \n",
      "319                    16.0  \n",
      "560                     5.0  \n",
      "780                     0.0  \n"
     ]
    }
   ],
   "source": [
    "# Check for all orders placed Wednesday at 2:00 AM\n",
    "\n",
    "wed_2_am = orders_df[(orders_df['order_dow']==3) & (orders_df['order_hour_of_day']==14)]\n",
    "\n",
    "print(wed_2_am.head())"
   ]
  },
  {
   "cell_type": "code",
   "execution_count": 6,
   "id": "480563c7",
   "metadata": {},
   "outputs": [
    {
     "name": "stdout",
     "output_type": "stream",
     "text": [
      "15\n",
      "\n",
      "order_id  user_id  order_number  order_dow  order_hour_of_day  days_since_prior_order\n",
      "1021560   53767    3             3          2                  9.0                       2\n",
      "467134    63189    21            3          2                  2.0                       2\n",
      "391768    57671    19            3          2                  10.0                      2\n",
      "2282673   86751    49            3          2                  2.0                       2\n",
      "408114    68324    4             3          2                  18.0                      2\n",
      "                                                                                        ..\n",
      "1141863   88987    2             1          11                 14.0                      1\n",
      "1141854   125458   91            6          8                  2.0                       1\n",
      "1141847   156072   4             2          21                 6.0                       1\n",
      "1141845   153218   2             3          8                  6.0                       1\n",
      "3421079   108687   6             1          13                 0.0                       1\n",
      "Length: 450135, dtype: int64\n"
     ]
    }
   ],
   "source": [
    "# Remove duplicate orders\n",
    "\n",
    "print(orders_df.duplicated().sum())\n",
    "print()\n",
    "print(orders_df.value_counts())\n",
    "\n",
    "orders_df = orders_df.drop_duplicates().reset_index(drop=True)"
   ]
  },
  {
   "cell_type": "code",
   "execution_count": 7,
   "id": "0b2396a2",
   "metadata": {},
   "outputs": [
    {
     "name": "stdout",
     "output_type": "stream",
     "text": [
      "0\n"
     ]
    }
   ],
   "source": [
    "# Double check for duplicate rows\n",
    "\n",
    "print(orders_df.duplicated().sum())"
   ]
  },
  {
   "cell_type": "code",
   "execution_count": 8,
   "id": "f6113ef1",
   "metadata": {},
   "outputs": [
    {
     "name": "stdout",
     "output_type": "stream",
     "text": [
      "0\n"
     ]
    }
   ],
   "source": [
    "# Double check for duplicate order IDs only\n",
    "\n",
    "print(orders_df['order_id'].duplicated().sum())"
   ]
  },
  {
   "cell_type": "markdown",
   "id": "45e6bc46",
   "metadata": {},
   "source": [
    "### `products` data frame"
   ]
  },
  {
   "cell_type": "code",
   "execution_count": 9,
   "id": "5f526b5b-8175-46fa-a0fd-441767d50e64",
   "metadata": {},
   "outputs": [
    {
     "name": "stdout",
     "output_type": "stream",
     "text": [
      "<class 'pandas.core.frame.DataFrame'>\n",
      "RangeIndex: 49694 entries, 0 to 49693\n",
      "Data columns (total 4 columns):\n",
      " #   Column         Non-Null Count  Dtype \n",
      "---  ------         --------------  ----- \n",
      " 0   product_id     49694 non-null  int64 \n",
      " 1   product_name   48436 non-null  object\n",
      " 2   aisle_id       49694 non-null  int64 \n",
      " 3   department_id  49694 non-null  int64 \n",
      "dtypes: int64(3), object(1)\n",
      "memory usage: 1.5+ MB\n"
     ]
    }
   ],
   "source": [
    "# Check for fully duplicate rows\n",
    "\n",
    "products_df.info(show_counts=True)"
   ]
  },
  {
   "cell_type": "code",
   "execution_count": 10,
   "id": "e5c1f246",
   "metadata": {},
   "outputs": [
    {
     "data": {
      "text/html": [
       "<div>\n",
       "<style scoped>\n",
       "    .dataframe tbody tr th:only-of-type {\n",
       "        vertical-align: middle;\n",
       "    }\n",
       "\n",
       "    .dataframe tbody tr th {\n",
       "        vertical-align: top;\n",
       "    }\n",
       "\n",
       "    .dataframe thead th {\n",
       "        text-align: right;\n",
       "    }\n",
       "</style>\n",
       "<table border=\"1\" class=\"dataframe\">\n",
       "  <thead>\n",
       "    <tr style=\"text-align: right;\">\n",
       "      <th></th>\n",
       "      <th>product_id</th>\n",
       "      <th>product_name</th>\n",
       "      <th>aisle_id</th>\n",
       "      <th>department_id</th>\n",
       "    </tr>\n",
       "  </thead>\n",
       "  <tbody>\n",
       "    <tr>\n",
       "      <th>0</th>\n",
       "      <td>1</td>\n",
       "      <td>Chocolate Sandwich Cookies</td>\n",
       "      <td>61</td>\n",
       "      <td>19</td>\n",
       "    </tr>\n",
       "    <tr>\n",
       "      <th>1</th>\n",
       "      <td>2</td>\n",
       "      <td>All-Seasons Salt</td>\n",
       "      <td>104</td>\n",
       "      <td>13</td>\n",
       "    </tr>\n",
       "    <tr>\n",
       "      <th>2</th>\n",
       "      <td>3</td>\n",
       "      <td>Robust Golden Unsweetened Oolong Tea</td>\n",
       "      <td>94</td>\n",
       "      <td>7</td>\n",
       "    </tr>\n",
       "    <tr>\n",
       "      <th>3</th>\n",
       "      <td>4</td>\n",
       "      <td>Smart Ones Classic Favorites Mini Rigatoni Wit...</td>\n",
       "      <td>38</td>\n",
       "      <td>1</td>\n",
       "    </tr>\n",
       "    <tr>\n",
       "      <th>4</th>\n",
       "      <td>5</td>\n",
       "      <td>Green Chile Anytime Sauce</td>\n",
       "      <td>5</td>\n",
       "      <td>13</td>\n",
       "    </tr>\n",
       "  </tbody>\n",
       "</table>\n",
       "</div>"
      ],
      "text/plain": [
       "   product_id                                       product_name  aisle_id  \\\n",
       "0           1                         Chocolate Sandwich Cookies        61   \n",
       "1           2                                   All-Seasons Salt       104   \n",
       "2           3               Robust Golden Unsweetened Oolong Tea        94   \n",
       "3           4  Smart Ones Classic Favorites Mini Rigatoni Wit...        38   \n",
       "4           5                          Green Chile Anytime Sauce         5   \n",
       "\n",
       "   department_id  \n",
       "0             19  \n",
       "1             13  \n",
       "2              7  \n",
       "3              1  \n",
       "4             13  "
      ]
     },
     "execution_count": 10,
     "metadata": {},
     "output_type": "execute_result"
    }
   ],
   "source": [
    "products_df.head()"
   ]
  },
  {
   "cell_type": "code",
   "execution_count": 11,
   "id": "3a7ef6dc",
   "metadata": {},
   "outputs": [
    {
     "data": {
      "text/plain": [
       "0"
      ]
     },
     "execution_count": 11,
     "metadata": {},
     "output_type": "execute_result"
    }
   ],
   "source": [
    "products_df.duplicated().sum()"
   ]
  },
  {
   "cell_type": "code",
   "execution_count": 12,
   "id": "88daa4f4",
   "metadata": {},
   "outputs": [
    {
     "name": "stdout",
     "output_type": "stream",
     "text": [
      "0\n"
     ]
    }
   ],
   "source": [
    "# Check for just duplicate product IDs\n",
    "\n",
    "print(products_df['product_id'].duplicated().sum())"
   ]
  },
  {
   "cell_type": "code",
   "execution_count": 13,
   "id": "c773f0bf",
   "metadata": {},
   "outputs": [
    {
     "name": "stdout",
     "output_type": "stream",
     "text": [
      "1361\n",
      "\n",
      "0        False\n",
      "1        False\n",
      "2        False\n",
      "3        False\n",
      "4        False\n",
      "         ...  \n",
      "49689     True\n",
      "49690     True\n",
      "49691     True\n",
      "49692     True\n",
      "49693     True\n",
      "Name: product_name, Length: 49694, dtype: bool\n"
     ]
    }
   ],
   "source": [
    "# Check for just duplicate product names (convert names to lowercase to compare better)\n",
    "\n",
    "products_df['product_name'] = products_df['product_name'].str.lower()\n",
    "print(products_df['product_name'].duplicated().sum())\n",
    "print()\n",
    "print(products_df['product_name'].duplicated())"
   ]
  },
  {
   "cell_type": "code",
   "execution_count": 14,
   "id": "01efd02e",
   "metadata": {},
   "outputs": [
    {
     "name": "stdout",
     "output_type": "stream",
     "text": [
      "NaN                                                                     1258\n",
      "green tea with ginseng and honey                                           3\n",
      "family size lasagna with meat & sauce                                      2\n",
      "rigatoni with chicken & pesto                                              2\n",
      "proactive health indoor weight & hairball care with chicken cat food       2\n",
      "                                                                        ... \n",
      "extra hot habanero pepper sauce                                            1\n",
      "moisturizing skin cream                                                    1\n",
      "honey banana chips                                                         1\n",
      "oregano oil- standardized- liquid vcaps                                    1\n",
      "apricot pineapple preserves                                                1\n",
      "Name: product_name, Length: 48333, dtype: int64\n"
     ]
    }
   ],
   "source": [
    "# Check for duplicate product names that aren't missing\n",
    "\n",
    "print(products_df['product_name'].value_counts(dropna=False))"
   ]
  },
  {
   "cell_type": "markdown",
   "id": "9da8d293",
   "metadata": {},
   "source": []
  },
  {
   "cell_type": "markdown",
   "id": "60f30db1",
   "metadata": {},
   "source": [
    "### `departments` data frame"
   ]
  },
  {
   "cell_type": "code",
   "execution_count": 15,
   "id": "fb410ad4-0fbf-4b80-bb09-23fdea79afe3",
   "metadata": {},
   "outputs": [
    {
     "name": "stdout",
     "output_type": "stream",
     "text": [
      "<class 'pandas.core.frame.DataFrame'>\n",
      "RangeIndex: 21 entries, 0 to 20\n",
      "Data columns (total 2 columns):\n",
      " #   Column         Non-Null Count  Dtype \n",
      "---  ------         --------------  ----- \n",
      " 0   department_id  21 non-null     int64 \n",
      " 1   department     21 non-null     object\n",
      "dtypes: int64(1), object(1)\n",
      "memory usage: 464.0+ bytes\n"
     ]
    }
   ],
   "source": [
    "depts_df.info(show_counts=True)"
   ]
  },
  {
   "cell_type": "code",
   "execution_count": 16,
   "id": "5d6ae59b",
   "metadata": {},
   "outputs": [
    {
     "data": {
      "text/html": [
       "<div>\n",
       "<style scoped>\n",
       "    .dataframe tbody tr th:only-of-type {\n",
       "        vertical-align: middle;\n",
       "    }\n",
       "\n",
       "    .dataframe tbody tr th {\n",
       "        vertical-align: top;\n",
       "    }\n",
       "\n",
       "    .dataframe thead th {\n",
       "        text-align: right;\n",
       "    }\n",
       "</style>\n",
       "<table border=\"1\" class=\"dataframe\">\n",
       "  <thead>\n",
       "    <tr style=\"text-align: right;\">\n",
       "      <th></th>\n",
       "      <th>department_id</th>\n",
       "      <th>department</th>\n",
       "    </tr>\n",
       "  </thead>\n",
       "  <tbody>\n",
       "    <tr>\n",
       "      <th>0</th>\n",
       "      <td>1</td>\n",
       "      <td>frozen</td>\n",
       "    </tr>\n",
       "    <tr>\n",
       "      <th>1</th>\n",
       "      <td>2</td>\n",
       "      <td>other</td>\n",
       "    </tr>\n",
       "    <tr>\n",
       "      <th>2</th>\n",
       "      <td>3</td>\n",
       "      <td>bakery</td>\n",
       "    </tr>\n",
       "    <tr>\n",
       "      <th>3</th>\n",
       "      <td>4</td>\n",
       "      <td>produce</td>\n",
       "    </tr>\n",
       "    <tr>\n",
       "      <th>4</th>\n",
       "      <td>5</td>\n",
       "      <td>alcohol</td>\n",
       "    </tr>\n",
       "  </tbody>\n",
       "</table>\n",
       "</div>"
      ],
      "text/plain": [
       "   department_id department\n",
       "0              1     frozen\n",
       "1              2      other\n",
       "2              3     bakery\n",
       "3              4    produce\n",
       "4              5    alcohol"
      ]
     },
     "execution_count": 16,
     "metadata": {},
     "output_type": "execute_result"
    }
   ],
   "source": [
    "depts_df.head()"
   ]
  },
  {
   "cell_type": "code",
   "execution_count": 17,
   "id": "7326619a",
   "metadata": {},
   "outputs": [
    {
     "data": {
      "text/plain": [
       "department_id  department     \n",
       "1              frozen             1\n",
       "12             meat seafood       1\n",
       "20             deli               1\n",
       "19             snacks             1\n",
       "18             babies             1\n",
       "17             household          1\n",
       "16             dairy eggs         1\n",
       "15             canned goods       1\n",
       "14             breakfast          1\n",
       "13             pantry             1\n",
       "11             personal care      1\n",
       "2              other              1\n",
       "10             bulk               1\n",
       "9              dry goods pasta    1\n",
       "8              pets               1\n",
       "7              beverages          1\n",
       "6              international      1\n",
       "5              alcohol            1\n",
       "4              produce            1\n",
       "3              bakery             1\n",
       "21             missing            1\n",
       "dtype: int64"
      ]
     },
     "execution_count": 17,
     "metadata": {},
     "output_type": "execute_result"
    }
   ],
   "source": [
    "depts_df.duplicated().sum()\n",
    "depts_df.value_counts()"
   ]
  },
  {
   "cell_type": "markdown",
   "id": "889349c1",
   "metadata": {},
   "source": [
    "### `aisles` data frame"
   ]
  },
  {
   "cell_type": "code",
   "execution_count": 18,
   "id": "9da89fb9-4679-40f5-ad0d-c34df753a3f8",
   "metadata": {},
   "outputs": [
    {
     "name": "stdout",
     "output_type": "stream",
     "text": [
      "<class 'pandas.core.frame.DataFrame'>\n",
      "RangeIndex: 134 entries, 0 to 133\n",
      "Data columns (total 2 columns):\n",
      " #   Column    Non-Null Count  Dtype \n",
      "---  ------    --------------  ----- \n",
      " 0   aisle_id  134 non-null    int64 \n",
      " 1   aisle     134 non-null    object\n",
      "dtypes: int64(1), object(1)\n",
      "memory usage: 2.2+ KB\n"
     ]
    }
   ],
   "source": [
    "aisles_df.info(show_counts=True)"
   ]
  },
  {
   "cell_type": "code",
   "execution_count": 19,
   "id": "b7220845",
   "metadata": {},
   "outputs": [
    {
     "data": {
      "text/html": [
       "<div>\n",
       "<style scoped>\n",
       "    .dataframe tbody tr th:only-of-type {\n",
       "        vertical-align: middle;\n",
       "    }\n",
       "\n",
       "    .dataframe tbody tr th {\n",
       "        vertical-align: top;\n",
       "    }\n",
       "\n",
       "    .dataframe thead th {\n",
       "        text-align: right;\n",
       "    }\n",
       "</style>\n",
       "<table border=\"1\" class=\"dataframe\">\n",
       "  <thead>\n",
       "    <tr style=\"text-align: right;\">\n",
       "      <th></th>\n",
       "      <th>aisle_id</th>\n",
       "      <th>aisle</th>\n",
       "    </tr>\n",
       "  </thead>\n",
       "  <tbody>\n",
       "    <tr>\n",
       "      <th>0</th>\n",
       "      <td>1</td>\n",
       "      <td>prepared soups salads</td>\n",
       "    </tr>\n",
       "    <tr>\n",
       "      <th>1</th>\n",
       "      <td>2</td>\n",
       "      <td>specialty cheeses</td>\n",
       "    </tr>\n",
       "    <tr>\n",
       "      <th>2</th>\n",
       "      <td>3</td>\n",
       "      <td>energy granola bars</td>\n",
       "    </tr>\n",
       "    <tr>\n",
       "      <th>3</th>\n",
       "      <td>4</td>\n",
       "      <td>instant foods</td>\n",
       "    </tr>\n",
       "    <tr>\n",
       "      <th>4</th>\n",
       "      <td>5</td>\n",
       "      <td>marinades meat preparation</td>\n",
       "    </tr>\n",
       "  </tbody>\n",
       "</table>\n",
       "</div>"
      ],
      "text/plain": [
       "   aisle_id                       aisle\n",
       "0         1       prepared soups salads\n",
       "1         2           specialty cheeses\n",
       "2         3         energy granola bars\n",
       "3         4               instant foods\n",
       "4         5  marinades meat preparation"
      ]
     },
     "execution_count": 19,
     "metadata": {},
     "output_type": "execute_result"
    }
   ],
   "source": [
    "aisles_df.head()"
   ]
  },
  {
   "cell_type": "code",
   "execution_count": 20,
   "id": "da7c2822",
   "metadata": {},
   "outputs": [
    {
     "data": {
      "text/plain": [
       "0"
      ]
     },
     "execution_count": 20,
     "metadata": {},
     "output_type": "execute_result"
    }
   ],
   "source": [
    "aisles_df.duplicated().sum()"
   ]
  },
  {
   "cell_type": "code",
   "execution_count": 21,
   "id": "13a5720b",
   "metadata": {},
   "outputs": [
    {
     "data": {
      "text/plain": [
       "aisle_id  aisle                     \n",
       "1         prepared soups salads         1\n",
       "85        food storage                  1\n",
       "99        canned fruit applesauce       1\n",
       "98        juice nectars                 1\n",
       "97        baking supplies decor         1\n",
       "                                       ..\n",
       "40        dog food care                 1\n",
       "39        seafood counter               1\n",
       "38        frozen meals                  1\n",
       "37        ice cream ice                 1\n",
       "134       specialty wines champagnes    1\n",
       "Length: 134, dtype: int64"
      ]
     },
     "execution_count": 21,
     "metadata": {},
     "output_type": "execute_result"
    }
   ],
   "source": [
    "aisles_df.value_counts()"
   ]
  },
  {
   "cell_type": "code",
   "execution_count": 22,
   "id": "52326689-84a8-4b8f-a881-7c68780f62c9",
   "metadata": {},
   "outputs": [
    {
     "name": "stdout",
     "output_type": "stream",
     "text": [
      "<class 'pandas.core.frame.DataFrame'>\n",
      "RangeIndex: 4545007 entries, 0 to 4545006\n",
      "Data columns (total 4 columns):\n",
      " #   Column             Non-Null Count    Dtype  \n",
      "---  ------             --------------    -----  \n",
      " 0   order_id           4545007 non-null  int64  \n",
      " 1   product_id         4545007 non-null  int64  \n",
      " 2   add_to_cart_order  4544171 non-null  float64\n",
      " 3   reordered          4545007 non-null  int64  \n",
      "dtypes: float64(1), int64(3)\n",
      "memory usage: 138.7 MB\n"
     ]
    }
   ],
   "source": [
    "# Check for fullly duplicate rows\n",
    "\n",
    "order_prdcts_df.info(show_counts=True)"
   ]
  },
  {
   "cell_type": "code",
   "execution_count": 23,
   "id": "02ecb66f",
   "metadata": {},
   "outputs": [
    {
     "data": {
      "text/html": [
       "<div>\n",
       "<style scoped>\n",
       "    .dataframe tbody tr th:only-of-type {\n",
       "        vertical-align: middle;\n",
       "    }\n",
       "\n",
       "    .dataframe tbody tr th {\n",
       "        vertical-align: top;\n",
       "    }\n",
       "\n",
       "    .dataframe thead th {\n",
       "        text-align: right;\n",
       "    }\n",
       "</style>\n",
       "<table border=\"1\" class=\"dataframe\">\n",
       "  <thead>\n",
       "    <tr style=\"text-align: right;\">\n",
       "      <th></th>\n",
       "      <th>order_id</th>\n",
       "      <th>product_id</th>\n",
       "      <th>add_to_cart_order</th>\n",
       "      <th>reordered</th>\n",
       "    </tr>\n",
       "  </thead>\n",
       "  <tbody>\n",
       "    <tr>\n",
       "      <th>0</th>\n",
       "      <td>2141543</td>\n",
       "      <td>11440</td>\n",
       "      <td>17.0</td>\n",
       "      <td>0</td>\n",
       "    </tr>\n",
       "    <tr>\n",
       "      <th>1</th>\n",
       "      <td>567889</td>\n",
       "      <td>1560</td>\n",
       "      <td>1.0</td>\n",
       "      <td>1</td>\n",
       "    </tr>\n",
       "    <tr>\n",
       "      <th>2</th>\n",
       "      <td>2261212</td>\n",
       "      <td>26683</td>\n",
       "      <td>1.0</td>\n",
       "      <td>1</td>\n",
       "    </tr>\n",
       "    <tr>\n",
       "      <th>3</th>\n",
       "      <td>491251</td>\n",
       "      <td>8670</td>\n",
       "      <td>35.0</td>\n",
       "      <td>1</td>\n",
       "    </tr>\n",
       "    <tr>\n",
       "      <th>4</th>\n",
       "      <td>2571142</td>\n",
       "      <td>1940</td>\n",
       "      <td>5.0</td>\n",
       "      <td>1</td>\n",
       "    </tr>\n",
       "  </tbody>\n",
       "</table>\n",
       "</div>"
      ],
      "text/plain": [
       "   order_id  product_id  add_to_cart_order  reordered\n",
       "0   2141543       11440               17.0          0\n",
       "1    567889        1560                1.0          1\n",
       "2   2261212       26683                1.0          1\n",
       "3    491251        8670               35.0          1\n",
       "4   2571142        1940                5.0          1"
      ]
     },
     "execution_count": 23,
     "metadata": {},
     "output_type": "execute_result"
    }
   ],
   "source": [
    "order_prdcts_df.head()"
   ]
  },
  {
   "cell_type": "code",
   "execution_count": 24,
   "id": "c842781e",
   "metadata": {},
   "outputs": [
    {
     "data": {
      "text/plain": [
       "0"
      ]
     },
     "execution_count": 24,
     "metadata": {},
     "output_type": "execute_result"
    }
   ],
   "source": [
    "order_prdcts_df.duplicated().sum()"
   ]
  },
  {
   "cell_type": "code",
   "execution_count": 25,
   "id": "06d38458",
   "metadata": {
    "scrolled": false
   },
   "outputs": [
    {
     "name": "stdout",
     "output_type": "stream",
     "text": [
      "Empty DataFrame\n",
      "Columns: [order_id, product_id, add_to_cart_order, reordered]\n",
      "Index: []\n"
     ]
    }
   ],
   "source": [
    "print(order_prdcts_df[order_prdcts_df.duplicated(subset=['order_id', 'product_id'])])"
   ]
  },
  {
   "cell_type": "markdown",
   "id": "1e46de76",
   "metadata": {},
   "source": [
    "## Find and remove missing values\n"
   ]
  },
  {
   "cell_type": "markdown",
   "id": "c0aebd78",
   "metadata": {},
   "source": [
    "### `products` data frame"
   ]
  },
  {
   "cell_type": "code",
   "execution_count": 26,
   "id": "fe4a8b0f",
   "metadata": {},
   "outputs": [
    {
     "name": "stdout",
     "output_type": "stream",
     "text": [
      "<class 'pandas.core.frame.DataFrame'>\n",
      "RangeIndex: 49694 entries, 0 to 49693\n",
      "Data columns (total 4 columns):\n",
      " #   Column         Non-Null Count  Dtype \n",
      "---  ------         --------------  ----- \n",
      " 0   product_id     49694 non-null  int64 \n",
      " 1   product_name   48436 non-null  object\n",
      " 2   aisle_id       49694 non-null  int64 \n",
      " 3   department_id  49694 non-null  int64 \n",
      "dtypes: int64(3), object(1)\n",
      "memory usage: 1.5+ MB\n"
     ]
    }
   ],
   "source": [
    "products_df.info()"
   ]
  },
  {
   "cell_type": "code",
   "execution_count": 27,
   "id": "9809712f",
   "metadata": {},
   "outputs": [
    {
     "data": {
      "text/html": [
       "<div>\n",
       "<style scoped>\n",
       "    .dataframe tbody tr th:only-of-type {\n",
       "        vertical-align: middle;\n",
       "    }\n",
       "\n",
       "    .dataframe tbody tr th {\n",
       "        vertical-align: top;\n",
       "    }\n",
       "\n",
       "    .dataframe thead th {\n",
       "        text-align: right;\n",
       "    }\n",
       "</style>\n",
       "<table border=\"1\" class=\"dataframe\">\n",
       "  <thead>\n",
       "    <tr style=\"text-align: right;\">\n",
       "      <th></th>\n",
       "      <th>product_id</th>\n",
       "      <th>product_name</th>\n",
       "      <th>aisle_id</th>\n",
       "      <th>department_id</th>\n",
       "    </tr>\n",
       "  </thead>\n",
       "  <tbody>\n",
       "    <tr>\n",
       "      <th>0</th>\n",
       "      <td>1</td>\n",
       "      <td>chocolate sandwich cookies</td>\n",
       "      <td>61</td>\n",
       "      <td>19</td>\n",
       "    </tr>\n",
       "    <tr>\n",
       "      <th>1</th>\n",
       "      <td>2</td>\n",
       "      <td>all-seasons salt</td>\n",
       "      <td>104</td>\n",
       "      <td>13</td>\n",
       "    </tr>\n",
       "    <tr>\n",
       "      <th>2</th>\n",
       "      <td>3</td>\n",
       "      <td>robust golden unsweetened oolong tea</td>\n",
       "      <td>94</td>\n",
       "      <td>7</td>\n",
       "    </tr>\n",
       "    <tr>\n",
       "      <th>3</th>\n",
       "      <td>4</td>\n",
       "      <td>smart ones classic favorites mini rigatoni wit...</td>\n",
       "      <td>38</td>\n",
       "      <td>1</td>\n",
       "    </tr>\n",
       "    <tr>\n",
       "      <th>4</th>\n",
       "      <td>5</td>\n",
       "      <td>green chile anytime sauce</td>\n",
       "      <td>5</td>\n",
       "      <td>13</td>\n",
       "    </tr>\n",
       "  </tbody>\n",
       "</table>\n",
       "</div>"
      ],
      "text/plain": [
       "   product_id                                       product_name  aisle_id  \\\n",
       "0           1                         chocolate sandwich cookies        61   \n",
       "1           2                                   all-seasons salt       104   \n",
       "2           3               robust golden unsweetened oolong tea        94   \n",
       "3           4  smart ones classic favorites mini rigatoni wit...        38   \n",
       "4           5                          green chile anytime sauce         5   \n",
       "\n",
       "   department_id  \n",
       "0             19  \n",
       "1             13  \n",
       "2              7  \n",
       "3              1  \n",
       "4             13  "
      ]
     },
     "execution_count": 27,
     "metadata": {},
     "output_type": "execute_result"
    }
   ],
   "source": [
    "products_df.head()"
   ]
  },
  {
   "cell_type": "code",
   "execution_count": 28,
   "id": "e96167bc",
   "metadata": {},
   "outputs": [
    {
     "data": {
      "text/plain": [
       "100    1258\n",
       "45     1246\n",
       "37     1091\n",
       "47     1038\n",
       "120    1026\n",
       "       ... \n",
       "113      47\n",
       "82       44\n",
       "32       32\n",
       "68       26\n",
       "18       12\n",
       "Name: aisle_id, Length: 134, dtype: int64"
      ]
     },
     "execution_count": 28,
     "metadata": {},
     "output_type": "execute_result"
    }
   ],
   "source": [
    "# Are all of the missing product names associated with aisle ID 100?\n",
    "\n",
    "products_df['aisle_id'].value_counts(dropna=False)"
   ]
  },
  {
   "cell_type": "code",
   "execution_count": 29,
   "id": "7955d3a7",
   "metadata": {},
   "outputs": [
    {
     "data": {
      "text/plain": [
       "11    6564\n",
       "19    6264\n",
       "13    5372\n",
       "7     4366\n",
       "1     4008\n",
       "16    3449\n",
       "17    3085\n",
       "15    2092\n",
       "9     1858\n",
       "4     1684\n",
       "3     1516\n",
       "20    1322\n",
       "21    1258\n",
       "6     1139\n",
       "14    1117\n",
       "18    1081\n",
       "5     1054\n",
       "8      972\n",
       "12     907\n",
       "2      548\n",
       "10      38\n",
       "Name: department_id, dtype: int64"
      ]
     },
     "execution_count": 29,
     "metadata": {},
     "output_type": "execute_result"
    }
   ],
   "source": [
    "# Are all of the missing product names associated with department ID 21?\n",
    "\n",
    "products_df['department_id'].value_counts(dropna=False)"
   ]
  },
  {
   "cell_type": "code",
   "execution_count": 30,
   "id": "f158fcb8",
   "metadata": {},
   "outputs": [],
   "source": [
    "# What is this aisle and department?"
   ]
  },
  {
   "cell_type": "code",
   "execution_count": 31,
   "id": "84e5876d",
   "metadata": {},
   "outputs": [
    {
     "data": {
      "text/plain": [
       "100    1258\n",
       "45     1246\n",
       "37     1091\n",
       "47     1038\n",
       "120    1026\n",
       "       ... \n",
       "113      47\n",
       "82       44\n",
       "32       32\n",
       "68       26\n",
       "18       12\n",
       "Name: aisle_id, Length: 134, dtype: int64"
      ]
     },
     "execution_count": 31,
     "metadata": {},
     "output_type": "execute_result"
    }
   ],
   "source": [
    "# Fill missing product names with 'Unknown'\n",
    "\n",
    "products_df['aisle_id'] = products_df['aisle_id'].where(products_df['aisle_id'] != 'NaN', 'Unknown')\n",
    "\n",
    "products_df['aisle_id'].value_counts(dropna=False)"
   ]
  },
  {
   "cell_type": "markdown",
   "id": "7eb45c86",
   "metadata": {},
   "source": [
    "### `orders` data frame"
   ]
  },
  {
   "cell_type": "code",
   "execution_count": 32,
   "id": "93e41d96",
   "metadata": {},
   "outputs": [
    {
     "data": {
      "text/html": [
       "<div>\n",
       "<style scoped>\n",
       "    .dataframe tbody tr th:only-of-type {\n",
       "        vertical-align: middle;\n",
       "    }\n",
       "\n",
       "    .dataframe tbody tr th {\n",
       "        vertical-align: top;\n",
       "    }\n",
       "\n",
       "    .dataframe thead th {\n",
       "        text-align: right;\n",
       "    }\n",
       "</style>\n",
       "<table border=\"1\" class=\"dataframe\">\n",
       "  <thead>\n",
       "    <tr style=\"text-align: right;\">\n",
       "      <th></th>\n",
       "      <th>order_id</th>\n",
       "      <th>user_id</th>\n",
       "      <th>order_number</th>\n",
       "      <th>order_dow</th>\n",
       "      <th>order_hour_of_day</th>\n",
       "      <th>days_since_prior_order</th>\n",
       "    </tr>\n",
       "  </thead>\n",
       "  <tbody>\n",
       "    <tr>\n",
       "      <th>0</th>\n",
       "      <td>1515936</td>\n",
       "      <td>183418</td>\n",
       "      <td>11</td>\n",
       "      <td>6</td>\n",
       "      <td>13</td>\n",
       "      <td>30.0</td>\n",
       "    </tr>\n",
       "    <tr>\n",
       "      <th>1</th>\n",
       "      <td>1690866</td>\n",
       "      <td>163593</td>\n",
       "      <td>5</td>\n",
       "      <td>5</td>\n",
       "      <td>12</td>\n",
       "      <td>9.0</td>\n",
       "    </tr>\n",
       "    <tr>\n",
       "      <th>2</th>\n",
       "      <td>1454967</td>\n",
       "      <td>39980</td>\n",
       "      <td>4</td>\n",
       "      <td>5</td>\n",
       "      <td>19</td>\n",
       "      <td>2.0</td>\n",
       "    </tr>\n",
       "    <tr>\n",
       "      <th>3</th>\n",
       "      <td>1768857</td>\n",
       "      <td>82516</td>\n",
       "      <td>56</td>\n",
       "      <td>0</td>\n",
       "      <td>20</td>\n",
       "      <td>10.0</td>\n",
       "    </tr>\n",
       "    <tr>\n",
       "      <th>4</th>\n",
       "      <td>3007858</td>\n",
       "      <td>196724</td>\n",
       "      <td>2</td>\n",
       "      <td>4</td>\n",
       "      <td>12</td>\n",
       "      <td>17.0</td>\n",
       "    </tr>\n",
       "  </tbody>\n",
       "</table>\n",
       "</div>"
      ],
      "text/plain": [
       "   order_id  user_id  order_number  order_dow  order_hour_of_day  \\\n",
       "0   1515936   183418            11          6                 13   \n",
       "1   1690866   163593             5          5                 12   \n",
       "2   1454967    39980             4          5                 19   \n",
       "3   1768857    82516            56          0                 20   \n",
       "4   3007858   196724             2          4                 12   \n",
       "\n",
       "   days_since_prior_order  \n",
       "0                    30.0  \n",
       "1                     9.0  \n",
       "2                     2.0  \n",
       "3                    10.0  \n",
       "4                    17.0  "
      ]
     },
     "execution_count": 32,
     "metadata": {},
     "output_type": "execute_result"
    }
   ],
   "source": [
    "orders_df.head()"
   ]
  },
  {
   "cell_type": "code",
   "execution_count": 33,
   "id": "166e5a86",
   "metadata": {},
   "outputs": [
    {
     "name": "stdout",
     "output_type": "stream",
     "text": [
      "\n",
      "\n",
      "Empty DataFrame\n",
      "Columns: [order_id, user_id, order_number, order_dow, order_hour_of_day, days_since_prior_order]\n",
      "Index: []\n"
     ]
    }
   ],
   "source": [
    "# Are there any missing values where it's not a customer's first order?\n",
    "\n",
    "#repeat_customers = orders_df[(orders_df['order_number'] > 1)]\n",
    "#non_null_values = order_prdcts_df[(order_prdcts_df['order_id'] == 0)]\n",
    "\n",
    "#print(order_prdcts_df['product_id'].value_counts(dropna=False))\n",
    "print()\n",
    "print()\n",
    "#print(orders_df['order_number'].value_counts(dropna=False))\n",
    "\n",
    "print(orders_df[(orders_df['days_since_prior_order'].isna()) & (orders_df['order_number'] != 1)])"
   ]
  },
  {
   "cell_type": "markdown",
   "id": "69dc9ca4",
   "metadata": {},
   "source": [
    "### `order_products` data frame"
   ]
  },
  {
   "cell_type": "code",
   "execution_count": 34,
   "id": "b8240253",
   "metadata": {},
   "outputs": [
    {
     "name": "stdout",
     "output_type": "stream",
     "text": [
      "<class 'pandas.core.frame.DataFrame'>\n",
      "RangeIndex: 4545007 entries, 0 to 4545006\n",
      "Data columns (total 4 columns):\n",
      " #   Column             Non-Null Count    Dtype  \n",
      "---  ------             --------------    -----  \n",
      " 0   order_id           4545007 non-null  int64  \n",
      " 1   product_id         4545007 non-null  int64  \n",
      " 2   add_to_cart_order  4544171 non-null  float64\n",
      " 3   reordered          4545007 non-null  int64  \n",
      "dtypes: float64(1), int64(3)\n",
      "memory usage: 138.7 MB\n",
      "None\n"
     ]
    }
   ],
   "source": [
    "print(order_prdcts_df.info(show_counts=True))"
   ]
  },
  {
   "cell_type": "code",
   "execution_count": 35,
   "id": "d3053c30",
   "metadata": {},
   "outputs": [
    {
     "data": {
      "text/plain": [
       "order_id               0\n",
       "product_id             0\n",
       "add_to_cart_order    836\n",
       "reordered              0\n",
       "dtype: int64"
      ]
     },
     "execution_count": 35,
     "metadata": {},
     "output_type": "execute_result"
    }
   ],
   "source": [
    "order_prdcts_df.isna().sum()"
   ]
  },
  {
   "cell_type": "code",
   "execution_count": 36,
   "id": "9a78e5ee",
   "metadata": {},
   "outputs": [
    {
     "data": {
      "text/plain": [
       "count    4.544171e+06\n",
       "mean     8.351669e+00\n",
       "std      7.080368e+00\n",
       "min      1.000000e+00\n",
       "25%      3.000000e+00\n",
       "50%      6.000000e+00\n",
       "75%      1.100000e+01\n",
       "max      6.400000e+01\n",
       "Name: add_to_cart_order, dtype: float64"
      ]
     },
     "execution_count": 36,
     "metadata": {},
     "output_type": "execute_result"
    }
   ],
   "source": [
    "# What are the min and max values in this column?\n",
    "\n",
    "order_prdcts_df['add_to_cart_order'].describe()"
   ]
  },
  {
   "cell_type": "code",
   "execution_count": 37,
   "id": "ab9d0c2b",
   "metadata": {},
   "outputs": [
    {
     "name": "stdout",
     "output_type": "stream",
     "text": [
      "         order_id  product_id  add_to_cart_order  reordered\n",
      "737       2449164        5068                NaN          0\n",
      "9926      1968313       43867                NaN          0\n",
      "14394     2926893       11688                NaN          0\n",
      "16418     1717990        4142                NaN          0\n",
      "30114     1959075       42828                NaN          1\n",
      "...           ...         ...                ...        ...\n",
      "4505662   1800005        7411                NaN          0\n",
      "4511400   1633337         260                NaN          0\n",
      "4517562    404157        9517                NaN          0\n",
      "4534112   1673227       17835                NaN          0\n",
      "4535739   1832957       17949                NaN          1\n",
      "\n",
      "[836 rows x 4 columns]\n"
     ]
    }
   ],
   "source": [
    "# Save all order IDs with at least one missing value in 'add_to_cart_order'\n",
    "\n",
    "miss_cart_order = order_prdcts_df[order_prdcts_df['add_to_cart_order'].isna()]\n",
    "\n",
    "print(miss_cart_order)\n",
    "\n",
    "#missing_cart_order_ids = order_prdcts_df.groupby()"
   ]
  },
  {
   "cell_type": "code",
   "execution_count": 38,
   "id": "54c31695",
   "metadata": {},
   "outputs": [
    {
     "name": "stdout",
     "output_type": "stream",
     "text": [
      "order_id\n",
      "9310        1\n",
      "747668      1\n",
      "1598369     1\n",
      "1677118     1\n",
      "2170451     1\n",
      "           ..\n",
      "1959075    34\n",
      "171934     40\n",
      "2136777    44\n",
      "3308010    51\n",
      "61355      63\n",
      "Name: product_id, Length: 70, dtype: int64\n"
     ]
    }
   ],
   "source": [
    "# Do all orders with missing values have more than 64 products?\n",
    "\n",
    "print(miss_cart_order.groupby('order_id')['product_id'].count().sort_values())\n",
    "#print(miss_cart_order.groupby('order_id')['product_id'].sum())\n"
   ]
  },
  {
   "cell_type": "code",
   "execution_count": 39,
   "id": "7a987d08",
   "metadata": {},
   "outputs": [
    {
     "name": "stdout",
     "output_type": "stream",
     "text": [
      "0\n",
      "<class 'pandas.core.frame.DataFrame'>\n",
      "RangeIndex: 4545007 entries, 0 to 4545006\n",
      "Data columns (total 4 columns):\n",
      " #   Column             Dtype\n",
      "---  ------             -----\n",
      " 0   order_id           int64\n",
      " 1   product_id         int64\n",
      " 2   add_to_cart_order  int64\n",
      " 3   reordered          int64\n",
      "dtypes: int64(4)\n",
      "memory usage: 138.7 MB\n",
      "None\n"
     ]
    }
   ],
   "source": [
    "# Replace missing values with 999 and convert column to integer type\n",
    "\n",
    "order_prdcts_df['add_to_cart_order'] = order_prdcts_df['add_to_cart_order'].fillna(999).astype(int)\n",
    "print(order_prdcts_df['add_to_cart_order'].isna().sum())\n",
    "print(order_prdcts_df.info())"
   ]
  },
  {
   "cell_type": "markdown",
   "id": "turkish-kidney",
   "metadata": {},
   "source": [
    "# [A] Easy (must complete all to pass)"
   ]
  },
  {
   "cell_type": "markdown",
   "id": "short-capability",
   "metadata": {},
   "source": [
    "### [A1] Verify that the `'order_hour_of_day'` and `'order_dow'` values in the `orders` tables are sensible (i.e. `'order_hour_of_day'` ranges from 0 to 23 and `'order_dow'` ranges from 0 to 6)"
   ]
  },
  {
   "cell_type": "code",
   "execution_count": 40,
   "id": "growing-fruit",
   "metadata": {},
   "outputs": [
    {
     "name": "stdout",
     "output_type": "stream",
     "text": [
      "24\n"
     ]
    }
   ],
   "source": [
    "orders_df.info\n",
    "\n",
    "print(orders_df['order_hour_of_day'].sort_values().nunique())"
   ]
  },
  {
   "cell_type": "code",
   "execution_count": 41,
   "id": "accessory-malaysia",
   "metadata": {},
   "outputs": [
    {
     "name": "stdout",
     "output_type": "stream",
     "text": [
      "7\n"
     ]
    }
   ],
   "source": [
    "print(orders_df['order_dow'].sort_values().nunique())"
   ]
  },
  {
   "cell_type": "code",
   "execution_count": 42,
   "id": "df5653a0",
   "metadata": {},
   "outputs": [
    {
     "data": {
      "text/plain": [
       "array([0, 1, 2, 3, 4, 5, 6])"
      ]
     },
     "execution_count": 42,
     "metadata": {},
     "output_type": "execute_result"
    }
   ],
   "source": [
    "orders_df['order_dow'].sort_values().unique()"
   ]
  },
  {
   "cell_type": "markdown",
   "id": "a6743a70",
   "metadata": {},
   "source": [
    "### [A2] What time of day do people shop for groceries?"
   ]
  },
  {
   "cell_type": "code",
   "execution_count": 43,
   "id": "a36cca27",
   "metadata": {},
   "outputs": [
    {
     "data": {
      "text/plain": [
       "count    478952.000000\n",
       "mean         13.447034\n",
       "std           4.224567\n",
       "min           0.000000\n",
       "25%          10.000000\n",
       "50%          13.000000\n",
       "75%          16.000000\n",
       "max          23.000000\n",
       "Name: order_hour_of_day, dtype: float64"
      ]
     },
     "execution_count": 43,
     "metadata": {},
     "output_type": "execute_result"
    }
   ],
   "source": [
    "orders_df.describe(include='all')\n",
    "hod = orders_df['order_hour_of_day']\n",
    "hod.describe()"
   ]
  },
  {
   "cell_type": "code",
   "execution_count": 44,
   "id": "64929819",
   "metadata": {},
   "outputs": [
    {
     "data": {
      "image/png": "[encoded data removed]",
      "text/plain": [
       "<Figure size 432x288 with 1 Axes>"
      ]
     },
     "metadata": {
      "needs_background": "light"
     },
     "output_type": "display_data"
    }
   ],
   "source": [
    "orders_df['order_hour_of_day'].plot(kind='hist', bins=23, title='Order Traffic')\n",
    "\n",
    "plt.xlabel('24-hr period')\n",
    "plt.ylabel('Orders By the Hour')\n",
    "plt.show()"
   ]
  },
  {
   "cell_type": "markdown",
   "id": "documented-command",
   "metadata": {},
   "source": [
    "### [A3] What day of the week do people shop for groceries?"
   ]
  },
  {
   "cell_type": "code",
   "execution_count": 45,
   "id": "chief-digit",
   "metadata": {},
   "outputs": [
    {
     "data": {
      "text/plain": [
       "count    478952.000000\n",
       "mean          2.775051\n",
       "std           2.045901\n",
       "min           0.000000\n",
       "25%           1.000000\n",
       "50%           3.000000\n",
       "75%           5.000000\n",
       "max           6.000000\n",
       "Name: order_dow, dtype: float64"
      ]
     },
     "execution_count": 45,
     "metadata": {},
     "output_type": "execute_result"
    }
   ],
   "source": [
    "tdow = orders_df['order_dow'].describe()\n",
    "tdow"
   ]
  },
  {
   "cell_type": "code",
   "execution_count": 46,
   "id": "3c6b7be5",
   "metadata": {},
   "outputs": [
    {
     "data": {
      "image/png": "[encoded data removed]",
      "text/plain": [
       "<Figure size 432x288 with 1 Axes>"
      ]
     },
     "metadata": {
      "needs_background": "light"
     },
     "output_type": "display_data"
    }
   ],
   "source": [
    "orders_df['order_dow'].plot(kind='hist', bins=7, title=\"The Week's Order Traffic Overview\")\n",
    "\n",
    "plt.xlabel('Days of the Week')\n",
    "plt.ylabel('Orders over the Week')\n",
    "\n",
    "plt.show()"
   ]
  },
  {
   "cell_type": "markdown",
   "id": "cutting-concert",
   "metadata": {},
   "source": [
    "### [A4] How long do people wait until placing another order?"
   ]
  },
  {
   "cell_type": "code",
   "execution_count": 47,
   "id": "c231f523",
   "metadata": {},
   "outputs": [
    {
     "data": {
      "text/plain": [
       "count    450135.000000\n",
       "mean         11.101814\n",
       "std           9.190004\n",
       "min           0.000000\n",
       "25%           4.000000\n",
       "50%           7.000000\n",
       "75%          15.000000\n",
       "max          30.000000\n",
       "Name: days_since_prior_order, dtype: float64"
      ]
     },
     "execution_count": 47,
     "metadata": {},
     "output_type": "execute_result"
    }
   ],
   "source": [
    "reorder_time = orders_df['days_since_prior_order'].describe()\n",
    "reorder_time"
   ]
  },
  {
   "cell_type": "code",
   "execution_count": 48,
   "id": "6cba9759",
   "metadata": {},
   "outputs": [
    {
     "data": {
      "image/png": "[encoded data removed]",
      "text/plain": [
       "<Figure size 432x288 with 1 Axes>"
      ]
     },
     "metadata": {
      "needs_background": "light"
     },
     "output_type": "display_data"
    }
   ],
   "source": [
    "orders_df['days_since_prior_order'].plot(kind='hist', bins=30, title=\"Days Since Prior Order\")\n",
    "\n",
    "plt.xlabel('Days Since Prior Order')\n",
    "plt.ylabel('Orders over the Week')\n",
    "\n",
    "plt.show()"
   ]
  },
  {
   "cell_type": "markdown",
   "id": "tight-staff",
   "metadata": {},
   "source": [
    "# [B] Medium (must complete all to pass)"
   ]
  },
  {
   "cell_type": "markdown",
   "id": "packed-classic",
   "metadata": {},
   "source": [
    "### [B1] Is there a difference in `'order_hour_of_day'` distributions on Wednesdays and Saturdays? Plot the histograms for both days and describe the differences that you see."
   ]
  },
  {
   "cell_type": "code",
   "execution_count": 49,
   "id": "94e54e8a",
   "metadata": {},
   "outputs": [
    {
     "data": {
      "image/png": "[encoded data removed]",
      "text/plain": [
       "<Figure size 432x288 with 1 Axes>"
      ]
     },
     "metadata": {
      "needs_background": "light"
     },
     "output_type": "display_data"
    }
   ],
   "source": [
    "#Wed = 3\n",
    "orders_df[orders_df['order_dow'] == 3]['order_hour_of_day'].plot(kind='hist',\n",
    "                                                                 bins=23,\n",
    "                                                                 title='Peak Traffic By Hour')\n",
    "#Sat = 6\n",
    "orders_df[orders_df['order_dow'] == 6]['order_hour_of_day'].plot(kind='hist', bins=23, alpha=0.80)\n",
    "\n",
    "plt.xlabel('Hour by Hour')\n",
    "plt.ylabel('Order Frequency')\n",
    "\n",
    "plt.legend(['Wednesday','Saturday'])\n",
    "plt.show()"
   ]
  },
  {
   "cell_type": "markdown",
   "id": "e3891143",
   "metadata": {},
   "source": [
    "### [B2] What's the distribution for the number of orders per customer?"
   ]
  },
  {
   "cell_type": "code",
   "execution_count": 50,
   "id": "aeeae1fb",
   "metadata": {},
   "outputs": [
    {
     "data": {
      "text/html": [
       "<div>\n",
       "<style scoped>\n",
       "    .dataframe tbody tr th:only-of-type {\n",
       "        vertical-align: middle;\n",
       "    }\n",
       "\n",
       "    .dataframe tbody tr th {\n",
       "        vertical-align: top;\n",
       "    }\n",
       "\n",
       "    .dataframe thead th {\n",
       "        text-align: right;\n",
       "    }\n",
       "</style>\n",
       "<table border=\"1\" class=\"dataframe\">\n",
       "  <thead>\n",
       "    <tr style=\"text-align: right;\">\n",
       "      <th></th>\n",
       "      <th>order_id</th>\n",
       "      <th>user_id</th>\n",
       "      <th>order_number</th>\n",
       "      <th>order_dow</th>\n",
       "      <th>order_hour_of_day</th>\n",
       "      <th>days_since_prior_order</th>\n",
       "    </tr>\n",
       "  </thead>\n",
       "  <tbody>\n",
       "    <tr>\n",
       "      <th>0</th>\n",
       "      <td>1515936</td>\n",
       "      <td>183418</td>\n",
       "      <td>11</td>\n",
       "      <td>6</td>\n",
       "      <td>13</td>\n",
       "      <td>30.0</td>\n",
       "    </tr>\n",
       "    <tr>\n",
       "      <th>1</th>\n",
       "      <td>1690866</td>\n",
       "      <td>163593</td>\n",
       "      <td>5</td>\n",
       "      <td>5</td>\n",
       "      <td>12</td>\n",
       "      <td>9.0</td>\n",
       "    </tr>\n",
       "    <tr>\n",
       "      <th>2</th>\n",
       "      <td>1454967</td>\n",
       "      <td>39980</td>\n",
       "      <td>4</td>\n",
       "      <td>5</td>\n",
       "      <td>19</td>\n",
       "      <td>2.0</td>\n",
       "    </tr>\n",
       "    <tr>\n",
       "      <th>3</th>\n",
       "      <td>1768857</td>\n",
       "      <td>82516</td>\n",
       "      <td>56</td>\n",
       "      <td>0</td>\n",
       "      <td>20</td>\n",
       "      <td>10.0</td>\n",
       "    </tr>\n",
       "    <tr>\n",
       "      <th>4</th>\n",
       "      <td>3007858</td>\n",
       "      <td>196724</td>\n",
       "      <td>2</td>\n",
       "      <td>4</td>\n",
       "      <td>12</td>\n",
       "      <td>17.0</td>\n",
       "    </tr>\n",
       "  </tbody>\n",
       "</table>\n",
       "</div>"
      ],
      "text/plain": [
       "   order_id  user_id  order_number  order_dow  order_hour_of_day  \\\n",
       "0   1515936   183418            11          6                 13   \n",
       "1   1690866   163593             5          5                 12   \n",
       "2   1454967    39980             4          5                 19   \n",
       "3   1768857    82516            56          0                 20   \n",
       "4   3007858   196724             2          4                 12   \n",
       "\n",
       "   days_since_prior_order  \n",
       "0                    30.0  \n",
       "1                     9.0  \n",
       "2                     2.0  \n",
       "3                    10.0  \n",
       "4                    17.0  "
      ]
     },
     "execution_count": 50,
     "metadata": {},
     "output_type": "execute_result"
    }
   ],
   "source": [
    "#orders_df.info()\n",
    "orders_df.head()\n",
    "#orders_df.describe()"
   ]
  },
  {
   "cell_type": "code",
   "execution_count": 51,
   "id": "d8c26c23",
   "metadata": {},
   "outputs": [
    {
     "data": {
      "image/png": "[encoded data removed]",
      "text/plain": [
       "<Figure size 432x288 with 1 Axes>"
      ]
     },
     "metadata": {
      "needs_background": "light"
     },
     "output_type": "display_data"
    }
   ],
   "source": [
    "user_order = orders_df.groupby('user_id')['order_id'].count()\n",
    "\n",
    "user_order.plot(kind='hist', x='order_id', title='Number of Orders Per Customer')\n",
    "plt.xlabel('Number of Orders')\n",
    "plt.ylabel('Number of Customers')\n",
    "plt.show()"
   ]
  },
  {
   "cell_type": "code",
   "execution_count": 52,
   "id": "00e69a66",
   "metadata": {},
   "outputs": [
    {
     "data": {
      "text/html": [
       "<div>\n",
       "<style scoped>\n",
       "    .dataframe tbody tr th:only-of-type {\n",
       "        vertical-align: middle;\n",
       "    }\n",
       "\n",
       "    .dataframe tbody tr th {\n",
       "        vertical-align: top;\n",
       "    }\n",
       "\n",
       "    .dataframe thead th {\n",
       "        text-align: right;\n",
       "    }\n",
       "</style>\n",
       "<table border=\"1\" class=\"dataframe\">\n",
       "  <thead>\n",
       "    <tr style=\"text-align: right;\">\n",
       "      <th></th>\n",
       "      <th>order_id</th>\n",
       "      <th>user_id</th>\n",
       "      <th>order_number</th>\n",
       "      <th>order_dow</th>\n",
       "      <th>order_hour_of_day</th>\n",
       "      <th>days_since_prior_order</th>\n",
       "    </tr>\n",
       "  </thead>\n",
       "  <tbody>\n",
       "    <tr>\n",
       "      <th>8485</th>\n",
       "      <td>603376</td>\n",
       "      <td>17</td>\n",
       "      <td>22</td>\n",
       "      <td>6</td>\n",
       "      <td>16</td>\n",
       "      <td>4.0</td>\n",
       "    </tr>\n",
       "    <tr>\n",
       "      <th>63887</th>\n",
       "      <td>2795254</td>\n",
       "      <td>17</td>\n",
       "      <td>25</td>\n",
       "      <td>0</td>\n",
       "      <td>11</td>\n",
       "      <td>6.0</td>\n",
       "    </tr>\n",
       "    <tr>\n",
       "      <th>155724</th>\n",
       "      <td>2430354</td>\n",
       "      <td>17</td>\n",
       "      <td>8</td>\n",
       "      <td>0</td>\n",
       "      <td>15</td>\n",
       "      <td>6.0</td>\n",
       "    </tr>\n",
       "    <tr>\n",
       "      <th>229231</th>\n",
       "      <td>2760791</td>\n",
       "      <td>17</td>\n",
       "      <td>32</td>\n",
       "      <td>1</td>\n",
       "      <td>22</td>\n",
       "      <td>4.0</td>\n",
       "    </tr>\n",
       "    <tr>\n",
       "      <th>273909</th>\n",
       "      <td>3237467</td>\n",
       "      <td>17</td>\n",
       "      <td>5</td>\n",
       "      <td>6</td>\n",
       "      <td>17</td>\n",
       "      <td>5.0</td>\n",
       "    </tr>\n",
       "    <tr>\n",
       "      <th>342732</th>\n",
       "      <td>1389057</td>\n",
       "      <td>17</td>\n",
       "      <td>13</td>\n",
       "      <td>1</td>\n",
       "      <td>13</td>\n",
       "      <td>6.0</td>\n",
       "    </tr>\n",
       "    <tr>\n",
       "      <th>407135</th>\n",
       "      <td>805025</td>\n",
       "      <td>17</td>\n",
       "      <td>11</td>\n",
       "      <td>4</td>\n",
       "      <td>15</td>\n",
       "      <td>4.0</td>\n",
       "    </tr>\n",
       "  </tbody>\n",
       "</table>\n",
       "</div>"
      ],
      "text/plain": [
       "        order_id  user_id  order_number  order_dow  order_hour_of_day  \\\n",
       "8485      603376       17            22          6                 16   \n",
       "63887    2795254       17            25          0                 11   \n",
       "155724   2430354       17             8          0                 15   \n",
       "229231   2760791       17            32          1                 22   \n",
       "273909   3237467       17             5          6                 17   \n",
       "342732   1389057       17            13          1                 13   \n",
       "407135    805025       17            11          4                 15   \n",
       "\n",
       "        days_since_prior_order  \n",
       "8485                       4.0  \n",
       "63887                      6.0  \n",
       "155724                     6.0  \n",
       "229231                     4.0  \n",
       "273909                     5.0  \n",
       "342732                     6.0  \n",
       "407135                     4.0  "
      ]
     },
     "execution_count": 52,
     "metadata": {},
     "output_type": "execute_result"
    }
   ],
   "source": [
    "orders_df.query(\"user_id == 17\")"
   ]
  },
  {
   "cell_type": "markdown",
   "id": "54a0319c",
   "metadata": {},
   "source": [
    "### [B3] What are the top 20 popular products (display their id and name)?"
   ]
  },
  {
   "cell_type": "code",
   "execution_count": 53,
   "id": "universal-facial",
   "metadata": {},
   "outputs": [
    {
     "data": {
      "text/html": [
       "<div>\n",
       "<style scoped>\n",
       "    .dataframe tbody tr th:only-of-type {\n",
       "        vertical-align: middle;\n",
       "    }\n",
       "\n",
       "    .dataframe tbody tr th {\n",
       "        vertical-align: top;\n",
       "    }\n",
       "\n",
       "    .dataframe thead th {\n",
       "        text-align: right;\n",
       "    }\n",
       "</style>\n",
       "<table border=\"1\" class=\"dataframe\">\n",
       "  <thead>\n",
       "    <tr style=\"text-align: right;\">\n",
       "      <th></th>\n",
       "      <th>product_id</th>\n",
       "      <th>product_name</th>\n",
       "    </tr>\n",
       "  </thead>\n",
       "  <tbody>\n",
       "    <tr>\n",
       "      <th>22332</th>\n",
       "      <td>24852</td>\n",
       "      <td>banana</td>\n",
       "    </tr>\n",
       "    <tr>\n",
       "      <th>11772</th>\n",
       "      <td>13176</td>\n",
       "      <td>bag of organic bananas</td>\n",
       "    </tr>\n",
       "    <tr>\n",
       "      <th>18970</th>\n",
       "      <td>21137</td>\n",
       "      <td>organic strawberries</td>\n",
       "    </tr>\n",
       "    <tr>\n",
       "      <th>19660</th>\n",
       "      <td>21903</td>\n",
       "      <td>organic baby spinach</td>\n",
       "    </tr>\n",
       "    <tr>\n",
       "      <th>42362</th>\n",
       "      <td>47209</td>\n",
       "      <td>organic hass avocado</td>\n",
       "    </tr>\n",
       "    <tr>\n",
       "      <th>42863</th>\n",
       "      <td>47766</td>\n",
       "      <td>organic avocado</td>\n",
       "    </tr>\n",
       "    <tr>\n",
       "      <th>42739</th>\n",
       "      <td>47626</td>\n",
       "      <td>large lemon</td>\n",
       "    </tr>\n",
       "    <tr>\n",
       "      <th>15037</th>\n",
       "      <td>16797</td>\n",
       "      <td>strawberries</td>\n",
       "    </tr>\n",
       "    <tr>\n",
       "      <th>23546</th>\n",
       "      <td>26209</td>\n",
       "      <td>limes</td>\n",
       "    </tr>\n",
       "    <tr>\n",
       "      <th>25022</th>\n",
       "      <td>27845</td>\n",
       "      <td>organic whole milk</td>\n",
       "    </tr>\n",
       "    <tr>\n",
       "      <th>25129</th>\n",
       "      <td>27966</td>\n",
       "      <td>organic raspberries</td>\n",
       "    </tr>\n",
       "    <tr>\n",
       "      <th>20590</th>\n",
       "      <td>22935</td>\n",
       "      <td>organic yellow onion</td>\n",
       "    </tr>\n",
       "    <tr>\n",
       "      <th>22431</th>\n",
       "      <td>24964</td>\n",
       "      <td>organic garlic</td>\n",
       "    </tr>\n",
       "    <tr>\n",
       "      <th>40374</th>\n",
       "      <td>45007</td>\n",
       "      <td>organic zucchini</td>\n",
       "    </tr>\n",
       "    <tr>\n",
       "      <th>35248</th>\n",
       "      <td>39275</td>\n",
       "      <td>organic blueberries</td>\n",
       "    </tr>\n",
       "    <tr>\n",
       "      <th>44601</th>\n",
       "      <td>49683</td>\n",
       "      <td>cucumber kirby</td>\n",
       "    </tr>\n",
       "    <tr>\n",
       "      <th>25345</th>\n",
       "      <td>28204</td>\n",
       "      <td>organic fuji apple</td>\n",
       "    </tr>\n",
       "    <tr>\n",
       "      <th>5280</th>\n",
       "      <td>5876</td>\n",
       "      <td>organic lemon</td>\n",
       "    </tr>\n",
       "    <tr>\n",
       "      <th>7400</th>\n",
       "      <td>8277</td>\n",
       "      <td>apple honeycrisp organic</td>\n",
       "    </tr>\n",
       "    <tr>\n",
       "      <th>36522</th>\n",
       "      <td>40706</td>\n",
       "      <td>organic grape tomatoes</td>\n",
       "    </tr>\n",
       "  </tbody>\n",
       "</table>\n",
       "</div>"
      ],
      "text/plain": [
       "       product_id              product_name\n",
       "22332       24852                    banana\n",
       "11772       13176    bag of organic bananas\n",
       "18970       21137      organic strawberries\n",
       "19660       21903      organic baby spinach\n",
       "42362       47209      organic hass avocado\n",
       "42863       47766           organic avocado\n",
       "42739       47626               large lemon\n",
       "15037       16797              strawberries\n",
       "23546       26209                     limes\n",
       "25022       27845        organic whole milk\n",
       "25129       27966       organic raspberries\n",
       "20590       22935      organic yellow onion\n",
       "22431       24964            organic garlic\n",
       "40374       45007          organic zucchini\n",
       "35248       39275       organic blueberries\n",
       "44601       49683            cucumber kirby\n",
       "25345       28204        organic fuji apple\n",
       "5280         5876             organic lemon\n",
       "7400         8277  apple honeycrisp organic\n",
       "36522       40706    organic grape tomatoes"
      ]
     },
     "execution_count": 53,
     "metadata": {},
     "output_type": "execute_result"
    }
   ],
   "source": [
    "bi_prdct_df = order_prdcts_df.merge(products_df, on='product_id', how='left')\n",
    "\n",
    "top_20_prdcts = bi_prdct_df.groupby(['product_id', 'product_name']).size().reset_index(name='count')\n",
    "top_20_prdcts = top_20_prdcts.sort_values(by='count', ascending=False)\n",
    "\n",
    "top_20_prdcts[['product_id', 'product_name']].head(20)"
   ]
  },
  {
   "cell_type": "markdown",
   "id": "gross-theme",
   "metadata": {},
   "source": [
    "# [C] Hard (must complete at least two to pass)"
   ]
  },
  {
   "cell_type": "markdown",
   "id": "romantic-deposit",
   "metadata": {},
   "source": [
    "### [C1] How many items do people typically buy in one order? What does the distribution look like?"
   ]
  },
  {
   "cell_type": "code",
   "execution_count": 54,
   "id": "virtual-punch",
   "metadata": {},
   "outputs": [
    {
     "data": {
      "text/html": [
       "<div>\n",
       "<style scoped>\n",
       "    .dataframe tbody tr th:only-of-type {\n",
       "        vertical-align: middle;\n",
       "    }\n",
       "\n",
       "    .dataframe tbody tr th {\n",
       "        vertical-align: top;\n",
       "    }\n",
       "\n",
       "    .dataframe thead th {\n",
       "        text-align: right;\n",
       "    }\n",
       "</style>\n",
       "<table border=\"1\" class=\"dataframe\">\n",
       "  <thead>\n",
       "    <tr style=\"text-align: right;\">\n",
       "      <th></th>\n",
       "      <th>order_id</th>\n",
       "      <th>product_id</th>\n",
       "      <th>add_to_cart_order</th>\n",
       "      <th>reordered</th>\n",
       "    </tr>\n",
       "  </thead>\n",
       "  <tbody>\n",
       "    <tr>\n",
       "      <th>0</th>\n",
       "      <td>2141543</td>\n",
       "      <td>11440</td>\n",
       "      <td>17</td>\n",
       "      <td>0</td>\n",
       "    </tr>\n",
       "    <tr>\n",
       "      <th>1</th>\n",
       "      <td>567889</td>\n",
       "      <td>1560</td>\n",
       "      <td>1</td>\n",
       "      <td>1</td>\n",
       "    </tr>\n",
       "    <tr>\n",
       "      <th>2</th>\n",
       "      <td>2261212</td>\n",
       "      <td>26683</td>\n",
       "      <td>1</td>\n",
       "      <td>1</td>\n",
       "    </tr>\n",
       "    <tr>\n",
       "      <th>3</th>\n",
       "      <td>491251</td>\n",
       "      <td>8670</td>\n",
       "      <td>35</td>\n",
       "      <td>1</td>\n",
       "    </tr>\n",
       "    <tr>\n",
       "      <th>4</th>\n",
       "      <td>2571142</td>\n",
       "      <td>1940</td>\n",
       "      <td>5</td>\n",
       "      <td>1</td>\n",
       "    </tr>\n",
       "  </tbody>\n",
       "</table>\n",
       "</div>"
      ],
      "text/plain": [
       "   order_id  product_id  add_to_cart_order  reordered\n",
       "0   2141543       11440                 17          0\n",
       "1    567889        1560                  1          1\n",
       "2   2261212       26683                  1          1\n",
       "3    491251        8670                 35          1\n",
       "4   2571142        1940                  5          1"
      ]
     },
     "execution_count": 54,
     "metadata": {},
     "output_type": "execute_result"
    }
   ],
   "source": [
    "order_prdcts_df.head()"
   ]
  },
  {
   "cell_type": "code",
   "execution_count": 55,
   "id": "sensitive-breathing",
   "metadata": {},
   "outputs": [
    {
     "data": {
      "text/plain": [
       "count    450046.000000\n",
       "mean         10.098983\n",
       "std           7.540206\n",
       "min           1.000000\n",
       "25%           5.000000\n",
       "50%           8.000000\n",
       "75%          14.000000\n",
       "max         127.000000\n",
       "Name: product_id, dtype: float64"
      ]
     },
     "execution_count": 55,
     "metadata": {},
     "output_type": "execute_result"
    }
   ],
   "source": [
    "#Total Cart Order = tco\n",
    "tco = order_prdcts_df.groupby('order_id')['product_id'].count()\n",
    "tco.describe()"
   ]
  },
  {
   "cell_type": "code",
   "execution_count": 56,
   "id": "completed-frank",
   "metadata": {},
   "outputs": [
    {
     "data": {
      "image/png": "[encoded data removed]",
      "text/plain": [
       "<Figure size 432x288 with 1 Axes>"
      ]
     },
     "metadata": {
      "needs_background": "light"
     },
     "output_type": "display_data"
    }
   ],
   "source": [
    "tco.plot(kind='hist', \n",
    "         bins=35, \n",
    "         title='Distribution of Number of Items per Order')\n",
    "\n",
    "plt.xlabel('Number of Items')\n",
    "plt.ylabel('Frequency')\n",
    "\n",
    "plt.show()"
   ]
  },
  {
   "cell_type": "markdown",
   "id": "5e6b5537",
   "metadata": {},
   "source": [
    "### [C2] What are the top 20 items that are reordered most frequently (display their names and product IDs)?"
   ]
  },
  {
   "cell_type": "code",
   "execution_count": 57,
   "id": "possible-change",
   "metadata": {},
   "outputs": [
    {
     "data": {
      "text/html": [
       "<div>\n",
       "<style scoped>\n",
       "    .dataframe tbody tr th:only-of-type {\n",
       "        vertical-align: middle;\n",
       "    }\n",
       "\n",
       "    .dataframe tbody tr th {\n",
       "        vertical-align: top;\n",
       "    }\n",
       "\n",
       "    .dataframe thead th {\n",
       "        text-align: right;\n",
       "    }\n",
       "</style>\n",
       "<table border=\"1\" class=\"dataframe\">\n",
       "  <thead>\n",
       "    <tr style=\"text-align: right;\">\n",
       "      <th></th>\n",
       "      <th>product_id</th>\n",
       "      <th>reordered_count</th>\n",
       "      <th>product_name</th>\n",
       "    </tr>\n",
       "  </thead>\n",
       "  <tbody>\n",
       "    <tr>\n",
       "      <th>0</th>\n",
       "      <td>24852</td>\n",
       "      <td>55763</td>\n",
       "      <td>banana</td>\n",
       "    </tr>\n",
       "    <tr>\n",
       "      <th>1</th>\n",
       "      <td>13176</td>\n",
       "      <td>44450</td>\n",
       "      <td>bag of organic bananas</td>\n",
       "    </tr>\n",
       "    <tr>\n",
       "      <th>2</th>\n",
       "      <td>21137</td>\n",
       "      <td>28639</td>\n",
       "      <td>organic strawberries</td>\n",
       "    </tr>\n",
       "    <tr>\n",
       "      <th>3</th>\n",
       "      <td>21903</td>\n",
       "      <td>26233</td>\n",
       "      <td>organic baby spinach</td>\n",
       "    </tr>\n",
       "    <tr>\n",
       "      <th>4</th>\n",
       "      <td>47209</td>\n",
       "      <td>23629</td>\n",
       "      <td>organic hass avocado</td>\n",
       "    </tr>\n",
       "    <tr>\n",
       "      <th>5</th>\n",
       "      <td>47766</td>\n",
       "      <td>18743</td>\n",
       "      <td>organic avocado</td>\n",
       "    </tr>\n",
       "    <tr>\n",
       "      <th>6</th>\n",
       "      <td>27845</td>\n",
       "      <td>16251</td>\n",
       "      <td>organic whole milk</td>\n",
       "    </tr>\n",
       "    <tr>\n",
       "      <th>7</th>\n",
       "      <td>47626</td>\n",
       "      <td>15044</td>\n",
       "      <td>large lemon</td>\n",
       "    </tr>\n",
       "    <tr>\n",
       "      <th>8</th>\n",
       "      <td>27966</td>\n",
       "      <td>14748</td>\n",
       "      <td>organic raspberries</td>\n",
       "    </tr>\n",
       "    <tr>\n",
       "      <th>9</th>\n",
       "      <td>16797</td>\n",
       "      <td>13945</td>\n",
       "      <td>strawberries</td>\n",
       "    </tr>\n",
       "    <tr>\n",
       "      <th>10</th>\n",
       "      <td>26209</td>\n",
       "      <td>13327</td>\n",
       "      <td>limes</td>\n",
       "    </tr>\n",
       "    <tr>\n",
       "      <th>11</th>\n",
       "      <td>22935</td>\n",
       "      <td>11145</td>\n",
       "      <td>organic yellow onion</td>\n",
       "    </tr>\n",
       "    <tr>\n",
       "      <th>12</th>\n",
       "      <td>24964</td>\n",
       "      <td>10411</td>\n",
       "      <td>organic garlic</td>\n",
       "    </tr>\n",
       "    <tr>\n",
       "      <th>13</th>\n",
       "      <td>45007</td>\n",
       "      <td>10076</td>\n",
       "      <td>organic zucchini</td>\n",
       "    </tr>\n",
       "    <tr>\n",
       "      <th>14</th>\n",
       "      <td>49683</td>\n",
       "      <td>9538</td>\n",
       "      <td>cucumber kirby</td>\n",
       "    </tr>\n",
       "    <tr>\n",
       "      <th>15</th>\n",
       "      <td>28204</td>\n",
       "      <td>8989</td>\n",
       "      <td>organic fuji apple</td>\n",
       "    </tr>\n",
       "    <tr>\n",
       "      <th>16</th>\n",
       "      <td>8277</td>\n",
       "      <td>8836</td>\n",
       "      <td>apple honeycrisp organic</td>\n",
       "    </tr>\n",
       "    <tr>\n",
       "      <th>17</th>\n",
       "      <td>39275</td>\n",
       "      <td>8799</td>\n",
       "      <td>organic blueberries</td>\n",
       "    </tr>\n",
       "    <tr>\n",
       "      <th>18</th>\n",
       "      <td>5876</td>\n",
       "      <td>8412</td>\n",
       "      <td>organic lemon</td>\n",
       "    </tr>\n",
       "    <tr>\n",
       "      <th>19</th>\n",
       "      <td>49235</td>\n",
       "      <td>8389</td>\n",
       "      <td>organic half &amp; half</td>\n",
       "    </tr>\n",
       "  </tbody>\n",
       "</table>\n",
       "</div>"
      ],
      "text/plain": [
       "    product_id  reordered_count              product_name\n",
       "0        24852            55763                    banana\n",
       "1        13176            44450    bag of organic bananas\n",
       "2        21137            28639      organic strawberries\n",
       "3        21903            26233      organic baby spinach\n",
       "4        47209            23629      organic hass avocado\n",
       "5        47766            18743           organic avocado\n",
       "6        27845            16251        organic whole milk\n",
       "7        47626            15044               large lemon\n",
       "8        27966            14748       organic raspberries\n",
       "9        16797            13945              strawberries\n",
       "10       26209            13327                     limes\n",
       "11       22935            11145      organic yellow onion\n",
       "12       24964            10411            organic garlic\n",
       "13       45007            10076          organic zucchini\n",
       "14       49683             9538            cucumber kirby\n",
       "15       28204             8989        organic fuji apple\n",
       "16        8277             8836  apple honeycrisp organic\n",
       "17       39275             8799       organic blueberries\n",
       "18        5876             8412             organic lemon\n",
       "19       49235             8389       organic half & half"
      ]
     },
     "execution_count": 57,
     "metadata": {},
     "output_type": "execute_result"
    }
   ],
   "source": [
    "order_counts = order_prdcts_df[order_prdcts_df['reordered'] == 1]['product_id'].value_counts()\n",
    "\n",
    "reorder_prdct_df = order_counts.reset_index()\n",
    "reorder_prdct_df.columns = ['product_id', 'reordered_count']\n",
    "\n",
    "top_20_reorder = reorder_prdct_df.head(20)\n",
    "top_20_reorder = top_20_reorder.merge(products_df[['product_id', 'product_name']], on='product_id', how='left')\n",
    "\n",
    "top_20_reorder"
   ]
  },
  {
   "cell_type": "code",
   "execution_count": 58,
   "id": "1866702d",
   "metadata": {
    "scrolled": false
   },
   "outputs": [
    {
     "data": {
      "text/plain": [
       "<AxesSubplot:xlabel='product_name'>"
      ]
     },
     "execution_count": 58,
     "metadata": {},
     "output_type": "execute_result"
    },
    {
     "data": {
      "image/png": "[encoded data removed]",
      "text/plain": [
       "<Figure size 432x288 with 1 Axes>"
      ]
     },
     "metadata": {
      "needs_background": "light"
     },
     "output_type": "display_data"
    }
   ],
   "source": [
    "top_20_reorder.plot(x = 'product_name', y = 'reordered_count', kind = 'bar')"
   ]
  },
  {
   "cell_type": "markdown",
   "id": "9d312b14",
   "metadata": {},
   "source": [
    "### [C3] For each product, what proportion of its orders are reorders?"
   ]
  },
  {
   "cell_type": "code",
   "execution_count": 59,
   "id": "46776fb7",
   "metadata": {},
   "outputs": [
    {
     "data": {
      "text/html": [
       "<div>\n",
       "<style scoped>\n",
       "    .dataframe tbody tr th:only-of-type {\n",
       "        vertical-align: middle;\n",
       "    }\n",
       "\n",
       "    .dataframe tbody tr th {\n",
       "        vertical-align: top;\n",
       "    }\n",
       "\n",
       "    .dataframe thead th {\n",
       "        text-align: right;\n",
       "    }\n",
       "</style>\n",
       "<table border=\"1\" class=\"dataframe\">\n",
       "  <thead>\n",
       "    <tr style=\"text-align: right;\">\n",
       "      <th></th>\n",
       "      <th>order_id</th>\n",
       "      <th>product_id</th>\n",
       "      <th>add_to_cart_order</th>\n",
       "      <th>reordered</th>\n",
       "    </tr>\n",
       "  </thead>\n",
       "  <tbody>\n",
       "    <tr>\n",
       "      <th>0</th>\n",
       "      <td>2141543</td>\n",
       "      <td>11440</td>\n",
       "      <td>17</td>\n",
       "      <td>0</td>\n",
       "    </tr>\n",
       "    <tr>\n",
       "      <th>1</th>\n",
       "      <td>567889</td>\n",
       "      <td>1560</td>\n",
       "      <td>1</td>\n",
       "      <td>1</td>\n",
       "    </tr>\n",
       "    <tr>\n",
       "      <th>2</th>\n",
       "      <td>2261212</td>\n",
       "      <td>26683</td>\n",
       "      <td>1</td>\n",
       "      <td>1</td>\n",
       "    </tr>\n",
       "    <tr>\n",
       "      <th>3</th>\n",
       "      <td>491251</td>\n",
       "      <td>8670</td>\n",
       "      <td>35</td>\n",
       "      <td>1</td>\n",
       "    </tr>\n",
       "    <tr>\n",
       "      <th>4</th>\n",
       "      <td>2571142</td>\n",
       "      <td>1940</td>\n",
       "      <td>5</td>\n",
       "      <td>1</td>\n",
       "    </tr>\n",
       "  </tbody>\n",
       "</table>\n",
       "</div>"
      ],
      "text/plain": [
       "   order_id  product_id  add_to_cart_order  reordered\n",
       "0   2141543       11440                 17          0\n",
       "1    567889        1560                  1          1\n",
       "2   2261212       26683                  1          1\n",
       "3    491251        8670                 35          1\n",
       "4   2571142        1940                  5          1"
      ]
     },
     "execution_count": 59,
     "metadata": {},
     "output_type": "execute_result"
    }
   ],
   "source": [
    "order_prdcts_df.head()"
   ]
  },
  {
   "cell_type": "code",
   "execution_count": 60,
   "id": "f9fbc115",
   "metadata": {},
   "outputs": [
    {
     "name": "stdout",
     "output_type": "stream",
     "text": [
      "<class 'pandas.core.frame.DataFrame'>\n",
      "RangeIndex: 4545007 entries, 0 to 4545006\n",
      "Data columns (total 4 columns):\n",
      " #   Column             Dtype\n",
      "---  ------             -----\n",
      " 0   order_id           int64\n",
      " 1   product_id         int64\n",
      " 2   add_to_cart_order  int64\n",
      " 3   reordered          int64\n",
      "dtypes: int64(4)\n",
      "memory usage: 138.7 MB\n"
     ]
    }
   ],
   "source": [
    "order_prdcts_df.info()"
   ]
  },
  {
   "cell_type": "code",
   "execution_count": 61,
   "id": "978e7f16",
   "metadata": {},
   "outputs": [
    {
     "data": {
      "text/html": [
       "<div>\n",
       "<style scoped>\n",
       "    .dataframe tbody tr th:only-of-type {\n",
       "        vertical-align: middle;\n",
       "    }\n",
       "\n",
       "    .dataframe tbody tr th {\n",
       "        vertical-align: top;\n",
       "    }\n",
       "\n",
       "    .dataframe thead th {\n",
       "        text-align: right;\n",
       "    }\n",
       "</style>\n",
       "<table border=\"1\" class=\"dataframe\">\n",
       "  <thead>\n",
       "    <tr style=\"text-align: right;\">\n",
       "      <th>reordered</th>\n",
       "      <th>First time order</th>\n",
       "      <th>Reordered</th>\n",
       "      <th>Reordered Proportion (%)</th>\n",
       "    </tr>\n",
       "    <tr>\n",
       "      <th>product_id</th>\n",
       "      <th></th>\n",
       "      <th></th>\n",
       "      <th></th>\n",
       "    </tr>\n",
       "  </thead>\n",
       "  <tbody>\n",
       "    <tr>\n",
       "      <th>1</th>\n",
       "      <td>122.0</td>\n",
       "      <td>158.0</td>\n",
       "      <td>0.564286</td>\n",
       "    </tr>\n",
       "    <tr>\n",
       "      <th>2</th>\n",
       "      <td>11.0</td>\n",
       "      <td>0.0</td>\n",
       "      <td>0.000000</td>\n",
       "    </tr>\n",
       "    <tr>\n",
       "      <th>3</th>\n",
       "      <td>11.0</td>\n",
       "      <td>31.0</td>\n",
       "      <td>0.738095</td>\n",
       "    </tr>\n",
       "    <tr>\n",
       "      <th>4</th>\n",
       "      <td>24.0</td>\n",
       "      <td>25.0</td>\n",
       "      <td>0.510204</td>\n",
       "    </tr>\n",
       "    <tr>\n",
       "      <th>7</th>\n",
       "      <td>1.0</td>\n",
       "      <td>1.0</td>\n",
       "      <td>0.500000</td>\n",
       "    </tr>\n",
       "    <tr>\n",
       "      <th>...</th>\n",
       "      <td>...</td>\n",
       "      <td>...</td>\n",
       "      <td>...</td>\n",
       "    </tr>\n",
       "    <tr>\n",
       "      <th>49690</th>\n",
       "      <td>1.0</td>\n",
       "      <td>4.0</td>\n",
       "      <td>0.800000</td>\n",
       "    </tr>\n",
       "    <tr>\n",
       "      <th>49691</th>\n",
       "      <td>41.0</td>\n",
       "      <td>31.0</td>\n",
       "      <td>0.430556</td>\n",
       "    </tr>\n",
       "    <tr>\n",
       "      <th>49692</th>\n",
       "      <td>7.0</td>\n",
       "      <td>5.0</td>\n",
       "      <td>0.416667</td>\n",
       "    </tr>\n",
       "    <tr>\n",
       "      <th>49693</th>\n",
       "      <td>14.0</td>\n",
       "      <td>11.0</td>\n",
       "      <td>0.440000</td>\n",
       "    </tr>\n",
       "    <tr>\n",
       "      <th>49694</th>\n",
       "      <td>6.0</td>\n",
       "      <td>3.0</td>\n",
       "      <td>0.333333</td>\n",
       "    </tr>\n",
       "  </tbody>\n",
       "</table>\n",
       "<p>45573 rows × 3 columns</p>\n",
       "</div>"
      ],
      "text/plain": [
       "reordered   First time order  Reordered  Reordered Proportion (%)\n",
       "product_id                                                       \n",
       "1                      122.0      158.0                  0.564286\n",
       "2                       11.0        0.0                  0.000000\n",
       "3                       11.0       31.0                  0.738095\n",
       "4                       24.0       25.0                  0.510204\n",
       "7                        1.0        1.0                  0.500000\n",
       "...                      ...        ...                       ...\n",
       "49690                    1.0        4.0                  0.800000\n",
       "49691                   41.0       31.0                  0.430556\n",
       "49692                    7.0        5.0                  0.416667\n",
       "49693                   14.0       11.0                  0.440000\n",
       "49694                    6.0        3.0                  0.333333\n",
       "\n",
       "[45573 rows x 3 columns]"
      ]
     },
     "execution_count": 61,
     "metadata": {},
     "output_type": "execute_result"
    }
   ],
   "source": [
    "proportion_df = pd.pivot_table(order_prdcts_df, index='product_id', columns='reordered', values='order_id', aggfunc='count')\n",
    "proportion_df.rename(columns={0: 'First time order', 1: 'Reordered'}, inplace=True)\n",
    "proportion_df = proportion_df.fillna(0)\n",
    "proportion_df['Reordered Proportion (%)'] = (proportion_df['Reordered']) / (proportion_df['First time order'] + proportion_df['Reordered'])\n",
    "proportion_df"
   ]
  },
  {
   "cell_type": "code",
   "execution_count": 62,
   "id": "50a27edb",
   "metadata": {},
   "outputs": [
    {
     "data": {
      "text/html": [
       "<div>\n",
       "<style scoped>\n",
       "    .dataframe tbody tr th:only-of-type {\n",
       "        vertical-align: middle;\n",
       "    }\n",
       "\n",
       "    .dataframe tbody tr th {\n",
       "        vertical-align: top;\n",
       "    }\n",
       "\n",
       "    .dataframe thead th {\n",
       "        text-align: right;\n",
       "    }\n",
       "</style>\n",
       "<table border=\"1\" class=\"dataframe\">\n",
       "  <thead>\n",
       "    <tr style=\"text-align: right;\">\n",
       "      <th></th>\n",
       "      <th>product_id</th>\n",
       "      <th>First time order</th>\n",
       "      <th>Reordered</th>\n",
       "      <th>Reordered Proportion (%)</th>\n",
       "      <th>product_name</th>\n",
       "      <th>aisle_id</th>\n",
       "      <th>department_id</th>\n",
       "    </tr>\n",
       "  </thead>\n",
       "  <tbody>\n",
       "    <tr>\n",
       "      <th>0</th>\n",
       "      <td>1</td>\n",
       "      <td>122.0</td>\n",
       "      <td>158.0</td>\n",
       "      <td>0.564286</td>\n",
       "      <td>chocolate sandwich cookies</td>\n",
       "      <td>61</td>\n",
       "      <td>19</td>\n",
       "    </tr>\n",
       "    <tr>\n",
       "      <th>1</th>\n",
       "      <td>2</td>\n",
       "      <td>11.0</td>\n",
       "      <td>0.0</td>\n",
       "      <td>0.000000</td>\n",
       "      <td>all-seasons salt</td>\n",
       "      <td>104</td>\n",
       "      <td>13</td>\n",
       "    </tr>\n",
       "    <tr>\n",
       "      <th>2</th>\n",
       "      <td>3</td>\n",
       "      <td>11.0</td>\n",
       "      <td>31.0</td>\n",
       "      <td>0.738095</td>\n",
       "      <td>robust golden unsweetened oolong tea</td>\n",
       "      <td>94</td>\n",
       "      <td>7</td>\n",
       "    </tr>\n",
       "    <tr>\n",
       "      <th>3</th>\n",
       "      <td>4</td>\n",
       "      <td>24.0</td>\n",
       "      <td>25.0</td>\n",
       "      <td>0.510204</td>\n",
       "      <td>smart ones classic favorites mini rigatoni wit...</td>\n",
       "      <td>38</td>\n",
       "      <td>1</td>\n",
       "    </tr>\n",
       "    <tr>\n",
       "      <th>4</th>\n",
       "      <td>7</td>\n",
       "      <td>1.0</td>\n",
       "      <td>1.0</td>\n",
       "      <td>0.500000</td>\n",
       "      <td>pure coconut water with orange</td>\n",
       "      <td>98</td>\n",
       "      <td>7</td>\n",
       "    </tr>\n",
       "    <tr>\n",
       "      <th>...</th>\n",
       "      <td>...</td>\n",
       "      <td>...</td>\n",
       "      <td>...</td>\n",
       "      <td>...</td>\n",
       "      <td>...</td>\n",
       "      <td>...</td>\n",
       "      <td>...</td>\n",
       "    </tr>\n",
       "    <tr>\n",
       "      <th>45568</th>\n",
       "      <td>49690</td>\n",
       "      <td>1.0</td>\n",
       "      <td>4.0</td>\n",
       "      <td>0.800000</td>\n",
       "      <td>high performance energy drink</td>\n",
       "      <td>64</td>\n",
       "      <td>7</td>\n",
       "    </tr>\n",
       "    <tr>\n",
       "      <th>45569</th>\n",
       "      <td>49691</td>\n",
       "      <td>41.0</td>\n",
       "      <td>31.0</td>\n",
       "      <td>0.430556</td>\n",
       "      <td>original pancake &amp; waffle mix</td>\n",
       "      <td>130</td>\n",
       "      <td>14</td>\n",
       "    </tr>\n",
       "    <tr>\n",
       "      <th>45570</th>\n",
       "      <td>49692</td>\n",
       "      <td>7.0</td>\n",
       "      <td>5.0</td>\n",
       "      <td>0.416667</td>\n",
       "      <td>organic instant oatmeal light maple brown sugar</td>\n",
       "      <td>130</td>\n",
       "      <td>14</td>\n",
       "    </tr>\n",
       "    <tr>\n",
       "      <th>45571</th>\n",
       "      <td>49693</td>\n",
       "      <td>14.0</td>\n",
       "      <td>11.0</td>\n",
       "      <td>0.440000</td>\n",
       "      <td>spring water body wash</td>\n",
       "      <td>127</td>\n",
       "      <td>11</td>\n",
       "    </tr>\n",
       "    <tr>\n",
       "      <th>45572</th>\n",
       "      <td>49694</td>\n",
       "      <td>6.0</td>\n",
       "      <td>3.0</td>\n",
       "      <td>0.333333</td>\n",
       "      <td>burrito- steak &amp; cheese</td>\n",
       "      <td>38</td>\n",
       "      <td>1</td>\n",
       "    </tr>\n",
       "  </tbody>\n",
       "</table>\n",
       "<p>45573 rows × 7 columns</p>\n",
       "</div>"
      ],
      "text/plain": [
       "       product_id  First time order  Reordered  Reordered Proportion (%)  \\\n",
       "0               1             122.0      158.0                  0.564286   \n",
       "1               2              11.0        0.0                  0.000000   \n",
       "2               3              11.0       31.0                  0.738095   \n",
       "3               4              24.0       25.0                  0.510204   \n",
       "4               7               1.0        1.0                  0.500000   \n",
       "...           ...               ...        ...                       ...   \n",
       "45568       49690               1.0        4.0                  0.800000   \n",
       "45569       49691              41.0       31.0                  0.430556   \n",
       "45570       49692               7.0        5.0                  0.416667   \n",
       "45571       49693              14.0       11.0                  0.440000   \n",
       "45572       49694               6.0        3.0                  0.333333   \n",
       "\n",
       "                                            product_name  aisle_id  \\\n",
       "0                             chocolate sandwich cookies        61   \n",
       "1                                       all-seasons salt       104   \n",
       "2                   robust golden unsweetened oolong tea        94   \n",
       "3      smart ones classic favorites mini rigatoni wit...        38   \n",
       "4                         pure coconut water with orange        98   \n",
       "...                                                  ...       ...   \n",
       "45568                      high performance energy drink        64   \n",
       "45569                      original pancake & waffle mix       130   \n",
       "45570    organic instant oatmeal light maple brown sugar       130   \n",
       "45571                             spring water body wash       127   \n",
       "45572                            burrito- steak & cheese        38   \n",
       "\n",
       "       department_id  \n",
       "0                 19  \n",
       "1                 13  \n",
       "2                  7  \n",
       "3                  1  \n",
       "4                  7  \n",
       "...              ...  \n",
       "45568              7  \n",
       "45569             14  \n",
       "45570             14  \n",
       "45571             11  \n",
       "45572              1  \n",
       "\n",
       "[45573 rows x 7 columns]"
      ]
     },
     "execution_count": 62,
     "metadata": {},
     "output_type": "execute_result"
    }
   ],
   "source": [
    "mrg = proportion_df.merge(products_df, on='product_id', how='left')\n",
    "mrg"
   ]
  },
  {
   "cell_type": "code",
   "execution_count": 63,
   "id": "abedfaa8",
   "metadata": {},
   "outputs": [
    {
     "data": {
      "text/html": [
       "<div>\n",
       "<style scoped>\n",
       "    .dataframe tbody tr th:only-of-type {\n",
       "        vertical-align: middle;\n",
       "    }\n",
       "\n",
       "    .dataframe tbody tr th {\n",
       "        vertical-align: top;\n",
       "    }\n",
       "\n",
       "    .dataframe thead th {\n",
       "        text-align: right;\n",
       "    }\n",
       "</style>\n",
       "<table border=\"1\" class=\"dataframe\">\n",
       "  <thead>\n",
       "    <tr style=\"text-align: right;\">\n",
       "      <th></th>\n",
       "      <th>product_id</th>\n",
       "      <th>First time order</th>\n",
       "      <th>Reordered</th>\n",
       "      <th>Reordered Proportion (%)</th>\n",
       "      <th>product_name</th>\n",
       "      <th>aisle_id</th>\n",
       "      <th>department_id</th>\n",
       "    </tr>\n",
       "  </thead>\n",
       "  <tbody>\n",
       "    <tr>\n",
       "      <th>3214</th>\n",
       "      <td>3513</td>\n",
       "      <td>35.0</td>\n",
       "      <td>33.0</td>\n",
       "      <td>0.485294</td>\n",
       "      <td>organic blueberry</td>\n",
       "      <td>24</td>\n",
       "      <td>4</td>\n",
       "    </tr>\n",
       "  </tbody>\n",
       "</table>\n",
       "</div>"
      ],
      "text/plain": [
       "      product_id  First time order  Reordered  Reordered Proportion (%)  \\\n",
       "3214        3513              35.0       33.0                  0.485294   \n",
       "\n",
       "           product_name  aisle_id  department_id  \n",
       "3214  organic blueberry        24              4  "
      ]
     },
     "execution_count": 63,
     "metadata": {},
     "output_type": "execute_result"
    }
   ],
   "source": [
    "mrg.query(\"product_id == 3513\")"
   ]
  },
  {
   "cell_type": "markdown",
   "id": "subject-boxing",
   "metadata": {},
   "source": [
    "### [C4] For each customer, what proportion of their products ordered are reorders?"
   ]
  },
  {
   "cell_type": "code",
   "execution_count": 64,
   "id": "abddf858",
   "metadata": {},
   "outputs": [
    {
     "data": {
      "text/html": [
       "<div>\n",
       "<style scoped>\n",
       "    .dataframe tbody tr th:only-of-type {\n",
       "        vertical-align: middle;\n",
       "    }\n",
       "\n",
       "    .dataframe tbody tr th {\n",
       "        vertical-align: top;\n",
       "    }\n",
       "\n",
       "    .dataframe thead th {\n",
       "        text-align: right;\n",
       "    }\n",
       "</style>\n",
       "<table border=\"1\" class=\"dataframe\">\n",
       "  <thead>\n",
       "    <tr style=\"text-align: right;\">\n",
       "      <th></th>\n",
       "      <th>order_id</th>\n",
       "      <th>user_id</th>\n",
       "      <th>order_number</th>\n",
       "      <th>order_dow</th>\n",
       "      <th>order_hour_of_day</th>\n",
       "      <th>days_since_prior_order</th>\n",
       "    </tr>\n",
       "  </thead>\n",
       "  <tbody>\n",
       "    <tr>\n",
       "      <th>0</th>\n",
       "      <td>1515936</td>\n",
       "      <td>183418</td>\n",
       "      <td>11</td>\n",
       "      <td>6</td>\n",
       "      <td>13</td>\n",
       "      <td>30.0</td>\n",
       "    </tr>\n",
       "    <tr>\n",
       "      <th>1</th>\n",
       "      <td>1690866</td>\n",
       "      <td>163593</td>\n",
       "      <td>5</td>\n",
       "      <td>5</td>\n",
       "      <td>12</td>\n",
       "      <td>9.0</td>\n",
       "    </tr>\n",
       "    <tr>\n",
       "      <th>2</th>\n",
       "      <td>1454967</td>\n",
       "      <td>39980</td>\n",
       "      <td>4</td>\n",
       "      <td>5</td>\n",
       "      <td>19</td>\n",
       "      <td>2.0</td>\n",
       "    </tr>\n",
       "    <tr>\n",
       "      <th>3</th>\n",
       "      <td>1768857</td>\n",
       "      <td>82516</td>\n",
       "      <td>56</td>\n",
       "      <td>0</td>\n",
       "      <td>20</td>\n",
       "      <td>10.0</td>\n",
       "    </tr>\n",
       "    <tr>\n",
       "      <th>4</th>\n",
       "      <td>3007858</td>\n",
       "      <td>196724</td>\n",
       "      <td>2</td>\n",
       "      <td>4</td>\n",
       "      <td>12</td>\n",
       "      <td>17.0</td>\n",
       "    </tr>\n",
       "  </tbody>\n",
       "</table>\n",
       "</div>"
      ],
      "text/plain": [
       "   order_id  user_id  order_number  order_dow  order_hour_of_day  \\\n",
       "0   1515936   183418            11          6                 13   \n",
       "1   1690866   163593             5          5                 12   \n",
       "2   1454967    39980             4          5                 19   \n",
       "3   1768857    82516            56          0                 20   \n",
       "4   3007858   196724             2          4                 12   \n",
       "\n",
       "   days_since_prior_order  \n",
       "0                    30.0  \n",
       "1                     9.0  \n",
       "2                     2.0  \n",
       "3                    10.0  \n",
       "4                    17.0  "
      ]
     },
     "execution_count": 64,
     "metadata": {},
     "output_type": "execute_result"
    }
   ],
   "source": [
    "orders_df.head()"
   ]
  },
  {
   "cell_type": "code",
   "execution_count": 65,
   "id": "60718262",
   "metadata": {},
   "outputs": [
    {
     "data": {
      "text/html": [
       "<div>\n",
       "<style scoped>\n",
       "    .dataframe tbody tr th:only-of-type {\n",
       "        vertical-align: middle;\n",
       "    }\n",
       "\n",
       "    .dataframe tbody tr th {\n",
       "        vertical-align: top;\n",
       "    }\n",
       "\n",
       "    .dataframe thead th {\n",
       "        text-align: right;\n",
       "    }\n",
       "</style>\n",
       "<table border=\"1\" class=\"dataframe\">\n",
       "  <thead>\n",
       "    <tr style=\"text-align: right;\">\n",
       "      <th></th>\n",
       "      <th>order_id</th>\n",
       "      <th>product_id</th>\n",
       "      <th>add_to_cart_order</th>\n",
       "      <th>reordered</th>\n",
       "    </tr>\n",
       "  </thead>\n",
       "  <tbody>\n",
       "    <tr>\n",
       "      <th>0</th>\n",
       "      <td>2141543</td>\n",
       "      <td>11440</td>\n",
       "      <td>17</td>\n",
       "      <td>0</td>\n",
       "    </tr>\n",
       "    <tr>\n",
       "      <th>1</th>\n",
       "      <td>567889</td>\n",
       "      <td>1560</td>\n",
       "      <td>1</td>\n",
       "      <td>1</td>\n",
       "    </tr>\n",
       "    <tr>\n",
       "      <th>2</th>\n",
       "      <td>2261212</td>\n",
       "      <td>26683</td>\n",
       "      <td>1</td>\n",
       "      <td>1</td>\n",
       "    </tr>\n",
       "    <tr>\n",
       "      <th>3</th>\n",
       "      <td>491251</td>\n",
       "      <td>8670</td>\n",
       "      <td>35</td>\n",
       "      <td>1</td>\n",
       "    </tr>\n",
       "    <tr>\n",
       "      <th>4</th>\n",
       "      <td>2571142</td>\n",
       "      <td>1940</td>\n",
       "      <td>5</td>\n",
       "      <td>1</td>\n",
       "    </tr>\n",
       "  </tbody>\n",
       "</table>\n",
       "</div>"
      ],
      "text/plain": [
       "   order_id  product_id  add_to_cart_order  reordered\n",
       "0   2141543       11440                 17          0\n",
       "1    567889        1560                  1          1\n",
       "2   2261212       26683                  1          1\n",
       "3    491251        8670                 35          1\n",
       "4   2571142        1940                  5          1"
      ]
     },
     "execution_count": 65,
     "metadata": {},
     "output_type": "execute_result"
    }
   ],
   "source": [
    "order_prdcts_df.head()"
   ]
  },
  {
   "cell_type": "code",
   "execution_count": 66,
   "id": "ebb9acb8",
   "metadata": {},
   "outputs": [
    {
     "data": {
      "text/html": [
       "<div>\n",
       "<style scoped>\n",
       "    .dataframe tbody tr th:only-of-type {\n",
       "        vertical-align: middle;\n",
       "    }\n",
       "\n",
       "    .dataframe tbody tr th {\n",
       "        vertical-align: top;\n",
       "    }\n",
       "\n",
       "    .dataframe thead th {\n",
       "        text-align: right;\n",
       "    }\n",
       "</style>\n",
       "<table border=\"1\" class=\"dataframe\">\n",
       "  <thead>\n",
       "    <tr style=\"text-align: right;\">\n",
       "      <th></th>\n",
       "      <th>user_id</th>\n",
       "      <th>order_id</th>\n",
       "      <th>product_id</th>\n",
       "      <th>reordered</th>\n",
       "    </tr>\n",
       "  </thead>\n",
       "  <tbody>\n",
       "    <tr>\n",
       "      <th>0</th>\n",
       "      <td>183418</td>\n",
       "      <td>1515936</td>\n",
       "      <td>19048.0</td>\n",
       "      <td>1.0</td>\n",
       "    </tr>\n",
       "    <tr>\n",
       "      <th>1</th>\n",
       "      <td>183418</td>\n",
       "      <td>1515936</td>\n",
       "      <td>47766.0</td>\n",
       "      <td>1.0</td>\n",
       "    </tr>\n",
       "    <tr>\n",
       "      <th>2</th>\n",
       "      <td>183418</td>\n",
       "      <td>1515936</td>\n",
       "      <td>45066.0</td>\n",
       "      <td>0.0</td>\n",
       "    </tr>\n",
       "    <tr>\n",
       "      <th>3</th>\n",
       "      <td>183418</td>\n",
       "      <td>1515936</td>\n",
       "      <td>24082.0</td>\n",
       "      <td>0.0</td>\n",
       "    </tr>\n",
       "    <tr>\n",
       "      <th>4</th>\n",
       "      <td>183418</td>\n",
       "      <td>1515936</td>\n",
       "      <td>24363.0</td>\n",
       "      <td>0.0</td>\n",
       "    </tr>\n",
       "    <tr>\n",
       "      <th>...</th>\n",
       "      <td>...</td>\n",
       "      <td>...</td>\n",
       "      <td>...</td>\n",
       "      <td>...</td>\n",
       "    </tr>\n",
       "    <tr>\n",
       "      <th>4573908</th>\n",
       "      <td>1730</td>\n",
       "      <td>2071924</td>\n",
       "      <td>1503.0</td>\n",
       "      <td>0.0</td>\n",
       "    </tr>\n",
       "    <tr>\n",
       "      <th>4573909</th>\n",
       "      <td>1730</td>\n",
       "      <td>2071924</td>\n",
       "      <td>4778.0</td>\n",
       "      <td>1.0</td>\n",
       "    </tr>\n",
       "    <tr>\n",
       "      <th>4573910</th>\n",
       "      <td>1730</td>\n",
       "      <td>2071924</td>\n",
       "      <td>11512.0</td>\n",
       "      <td>1.0</td>\n",
       "    </tr>\n",
       "    <tr>\n",
       "      <th>4573911</th>\n",
       "      <td>1730</td>\n",
       "      <td>2071924</td>\n",
       "      <td>4920.0</td>\n",
       "      <td>1.0</td>\n",
       "    </tr>\n",
       "    <tr>\n",
       "      <th>4573912</th>\n",
       "      <td>1730</td>\n",
       "      <td>2071924</td>\n",
       "      <td>17678.0</td>\n",
       "      <td>1.0</td>\n",
       "    </tr>\n",
       "  </tbody>\n",
       "</table>\n",
       "<p>4573913 rows × 4 columns</p>\n",
       "</div>"
      ],
      "text/plain": [
       "         user_id  order_id  product_id  reordered\n",
       "0         183418   1515936     19048.0        1.0\n",
       "1         183418   1515936     47766.0        1.0\n",
       "2         183418   1515936     45066.0        0.0\n",
       "3         183418   1515936     24082.0        0.0\n",
       "4         183418   1515936     24363.0        0.0\n",
       "...          ...       ...         ...        ...\n",
       "4573908     1730   2071924      1503.0        0.0\n",
       "4573909     1730   2071924      4778.0        1.0\n",
       "4573910     1730   2071924     11512.0        1.0\n",
       "4573911     1730   2071924      4920.0        1.0\n",
       "4573912     1730   2071924     17678.0        1.0\n",
       "\n",
       "[4573913 rows x 4 columns]"
      ]
     },
     "execution_count": 66,
     "metadata": {},
     "output_type": "execute_result"
    }
   ],
   "source": [
    "ordr_mrg = orders_df[['user_id', 'order_id']].merge(order_prdcts_df[['order_id','product_id','reordered']], on='order_id', how='left')\n",
    "ordr_mrg"
   ]
  },
  {
   "cell_type": "code",
   "execution_count": 67,
   "id": "0276a914",
   "metadata": {},
   "outputs": [
    {
     "data": {
      "text/html": [
       "<div>\n",
       "<style scoped>\n",
       "    .dataframe tbody tr th:only-of-type {\n",
       "        vertical-align: middle;\n",
       "    }\n",
       "\n",
       "    .dataframe tbody tr th {\n",
       "        vertical-align: top;\n",
       "    }\n",
       "\n",
       "    .dataframe thead th {\n",
       "        text-align: right;\n",
       "    }\n",
       "</style>\n",
       "<table border=\"1\" class=\"dataframe\">\n",
       "  <thead>\n",
       "    <tr style=\"text-align: right;\">\n",
       "      <th>reordered</th>\n",
       "      <th>First time order</th>\n",
       "      <th>Reordered</th>\n",
       "      <th>Reordered Proportion (%)</th>\n",
       "    </tr>\n",
       "    <tr>\n",
       "      <th>user_id</th>\n",
       "      <th></th>\n",
       "      <th></th>\n",
       "      <th></th>\n",
       "    </tr>\n",
       "  </thead>\n",
       "  <tbody>\n",
       "    <tr>\n",
       "      <th>2</th>\n",
       "      <td>25.0</td>\n",
       "      <td>1.0</td>\n",
       "      <td>0.038462</td>\n",
       "    </tr>\n",
       "    <tr>\n",
       "      <th>4</th>\n",
       "      <td>2.0</td>\n",
       "      <td>0.0</td>\n",
       "      <td>0.000000</td>\n",
       "    </tr>\n",
       "    <tr>\n",
       "      <th>5</th>\n",
       "      <td>4.0</td>\n",
       "      <td>8.0</td>\n",
       "      <td>0.666667</td>\n",
       "    </tr>\n",
       "    <tr>\n",
       "      <th>6</th>\n",
       "      <td>4.0</td>\n",
       "      <td>0.0</td>\n",
       "      <td>0.000000</td>\n",
       "    </tr>\n",
       "    <tr>\n",
       "      <th>7</th>\n",
       "      <td>1.0</td>\n",
       "      <td>13.0</td>\n",
       "      <td>0.928571</td>\n",
       "    </tr>\n",
       "    <tr>\n",
       "      <th>...</th>\n",
       "      <td>...</td>\n",
       "      <td>...</td>\n",
       "      <td>...</td>\n",
       "    </tr>\n",
       "    <tr>\n",
       "      <th>206203</th>\n",
       "      <td>21.0</td>\n",
       "      <td>6.0</td>\n",
       "      <td>0.222222</td>\n",
       "    </tr>\n",
       "    <tr>\n",
       "      <th>206206</th>\n",
       "      <td>6.0</td>\n",
       "      <td>15.0</td>\n",
       "      <td>0.714286</td>\n",
       "    </tr>\n",
       "    <tr>\n",
       "      <th>206207</th>\n",
       "      <td>5.0</td>\n",
       "      <td>41.0</td>\n",
       "      <td>0.891304</td>\n",
       "    </tr>\n",
       "    <tr>\n",
       "      <th>206208</th>\n",
       "      <td>38.0</td>\n",
       "      <td>87.0</td>\n",
       "      <td>0.696000</td>\n",
       "    </tr>\n",
       "    <tr>\n",
       "      <th>206209</th>\n",
       "      <td>17.0</td>\n",
       "      <td>8.0</td>\n",
       "      <td>0.320000</td>\n",
       "    </tr>\n",
       "  </tbody>\n",
       "</table>\n",
       "<p>149626 rows × 3 columns</p>\n",
       "</div>"
      ],
      "text/plain": [
       "reordered  First time order  Reordered  Reordered Proportion (%)\n",
       "user_id                                                         \n",
       "2                      25.0        1.0                  0.038462\n",
       "4                       2.0        0.0                  0.000000\n",
       "5                       4.0        8.0                  0.666667\n",
       "6                       4.0        0.0                  0.000000\n",
       "7                       1.0       13.0                  0.928571\n",
       "...                     ...        ...                       ...\n",
       "206203                 21.0        6.0                  0.222222\n",
       "206206                  6.0       15.0                  0.714286\n",
       "206207                  5.0       41.0                  0.891304\n",
       "206208                 38.0       87.0                  0.696000\n",
       "206209                 17.0        8.0                  0.320000\n",
       "\n",
       "[149626 rows x 3 columns]"
      ]
     },
     "execution_count": 67,
     "metadata": {},
     "output_type": "execute_result"
    }
   ],
   "source": [
    "user_reorders = pd.pivot_table(ordr_mrg, index='user_id', columns='reordered', values='order_id', aggfunc='count')\n",
    "user_reorders.rename(columns={0: 'First time order', 1: 'Reordered'}, inplace=True)\n",
    "\n",
    "user_reorders = user_reorders.fillna(0)\n",
    "user_reorders['Reordered Proportion (%)'] = user_reorders['Reordered'] / (user_reorders['Reordered']+user_reorders['First time order'])\n",
    "\n",
    "user_reorders"
   ]
  },
  {
   "cell_type": "code",
   "execution_count": 68,
   "id": "0b97aa19",
   "metadata": {},
   "outputs": [
    {
     "data": {
      "text/html": [
       "<div>\n",
       "<style scoped>\n",
       "    .dataframe tbody tr th:only-of-type {\n",
       "        vertical-align: middle;\n",
       "    }\n",
       "\n",
       "    .dataframe tbody tr th {\n",
       "        vertical-align: top;\n",
       "    }\n",
       "\n",
       "    .dataframe thead th {\n",
       "        text-align: right;\n",
       "    }\n",
       "</style>\n",
       "<table border=\"1\" class=\"dataframe\">\n",
       "  <thead>\n",
       "    <tr style=\"text-align: right;\">\n",
       "      <th>reordered</th>\n",
       "      <th>First time order</th>\n",
       "      <th>Reordered</th>\n",
       "      <th>Reordered Proportion (%)</th>\n",
       "    </tr>\n",
       "    <tr>\n",
       "      <th>user_id</th>\n",
       "      <th></th>\n",
       "      <th></th>\n",
       "      <th></th>\n",
       "    </tr>\n",
       "  </thead>\n",
       "  <tbody>\n",
       "    <tr>\n",
       "      <th>220</th>\n",
       "      <td>6.0</td>\n",
       "      <td>7.0</td>\n",
       "      <td>0.538462</td>\n",
       "    </tr>\n",
       "  </tbody>\n",
       "</table>\n",
       "</div>"
      ],
      "text/plain": [
       "reordered  First time order  Reordered  Reordered Proportion (%)\n",
       "user_id                                                         \n",
       "220                     6.0        7.0                  0.538462"
      ]
     },
     "execution_count": 68,
     "metadata": {},
     "output_type": "execute_result"
    }
   ],
   "source": [
    "user_reorders.query(\"user_id == 220\")"
   ]
  },
  {
   "cell_type": "markdown",
   "id": "92d35137",
   "metadata": {},
   "source": [
    "### [C5] What are the top 20 items that people put in their carts first? "
   ]
  },
  {
   "cell_type": "code",
   "execution_count": 69,
   "id": "forty-netherlands",
   "metadata": {},
   "outputs": [
    {
     "data": {
      "text/html": [
       "<div>\n",
       "<style scoped>\n",
       "    .dataframe tbody tr th:only-of-type {\n",
       "        vertical-align: middle;\n",
       "    }\n",
       "\n",
       "    .dataframe tbody tr th {\n",
       "        vertical-align: top;\n",
       "    }\n",
       "\n",
       "    .dataframe thead th {\n",
       "        text-align: right;\n",
       "    }\n",
       "</style>\n",
       "<table border=\"1\" class=\"dataframe\">\n",
       "  <thead>\n",
       "    <tr style=\"text-align: right;\">\n",
       "      <th></th>\n",
       "      <th>order_id</th>\n",
       "      <th>product_id</th>\n",
       "      <th>add_to_cart_order</th>\n",
       "      <th>reordered</th>\n",
       "    </tr>\n",
       "  </thead>\n",
       "  <tbody>\n",
       "    <tr>\n",
       "      <th>0</th>\n",
       "      <td>2141543</td>\n",
       "      <td>11440</td>\n",
       "      <td>17</td>\n",
       "      <td>0</td>\n",
       "    </tr>\n",
       "    <tr>\n",
       "      <th>1</th>\n",
       "      <td>567889</td>\n",
       "      <td>1560</td>\n",
       "      <td>1</td>\n",
       "      <td>1</td>\n",
       "    </tr>\n",
       "    <tr>\n",
       "      <th>2</th>\n",
       "      <td>2261212</td>\n",
       "      <td>26683</td>\n",
       "      <td>1</td>\n",
       "      <td>1</td>\n",
       "    </tr>\n",
       "    <tr>\n",
       "      <th>3</th>\n",
       "      <td>491251</td>\n",
       "      <td>8670</td>\n",
       "      <td>35</td>\n",
       "      <td>1</td>\n",
       "    </tr>\n",
       "    <tr>\n",
       "      <th>4</th>\n",
       "      <td>2571142</td>\n",
       "      <td>1940</td>\n",
       "      <td>5</td>\n",
       "      <td>1</td>\n",
       "    </tr>\n",
       "  </tbody>\n",
       "</table>\n",
       "</div>"
      ],
      "text/plain": [
       "   order_id  product_id  add_to_cart_order  reordered\n",
       "0   2141543       11440                 17          0\n",
       "1    567889        1560                  1          1\n",
       "2   2261212       26683                  1          1\n",
       "3    491251        8670                 35          1\n",
       "4   2571142        1940                  5          1"
      ]
     },
     "execution_count": 69,
     "metadata": {},
     "output_type": "execute_result"
    }
   ],
   "source": [
    "order_prdcts_df.head()"
   ]
  },
  {
   "cell_type": "code",
   "execution_count": 70,
   "id": "08e41ec2",
   "metadata": {},
   "outputs": [],
   "source": [
    "first_item = order_prdcts_df[order_prdcts_df['add_to_cart_order']==1]\n",
    "top_first_items = first_item['product_id'].value_counts()[:20].reset_index()\n",
    "top_first_items.rename(columns={'index': 'product_id', 'product_id': 'frequency'}, inplace=True)"
   ]
  },
  {
   "cell_type": "code",
   "execution_count": 71,
   "id": "bec7b014",
   "metadata": {
    "scrolled": false
   },
   "outputs": [
    {
     "data": {
      "text/html": [
       "<div>\n",
       "<style scoped>\n",
       "    .dataframe tbody tr th:only-of-type {\n",
       "        vertical-align: middle;\n",
       "    }\n",
       "\n",
       "    .dataframe tbody tr th {\n",
       "        vertical-align: top;\n",
       "    }\n",
       "\n",
       "    .dataframe thead th {\n",
       "        text-align: right;\n",
       "    }\n",
       "</style>\n",
       "<table border=\"1\" class=\"dataframe\">\n",
       "  <thead>\n",
       "    <tr style=\"text-align: right;\">\n",
       "      <th></th>\n",
       "      <th>product_id</th>\n",
       "      <th>frequency</th>\n",
       "      <th>product_name</th>\n",
       "    </tr>\n",
       "  </thead>\n",
       "  <tbody>\n",
       "    <tr>\n",
       "      <th>0</th>\n",
       "      <td>24852</td>\n",
       "      <td>15562</td>\n",
       "      <td>banana</td>\n",
       "    </tr>\n",
       "    <tr>\n",
       "      <th>1</th>\n",
       "      <td>13176</td>\n",
       "      <td>11026</td>\n",
       "      <td>bag of organic bananas</td>\n",
       "    </tr>\n",
       "    <tr>\n",
       "      <th>2</th>\n",
       "      <td>27845</td>\n",
       "      <td>4363</td>\n",
       "      <td>organic whole milk</td>\n",
       "    </tr>\n",
       "    <tr>\n",
       "      <th>3</th>\n",
       "      <td>21137</td>\n",
       "      <td>3946</td>\n",
       "      <td>organic strawberries</td>\n",
       "    </tr>\n",
       "    <tr>\n",
       "      <th>4</th>\n",
       "      <td>47209</td>\n",
       "      <td>3390</td>\n",
       "      <td>organic hass avocado</td>\n",
       "    </tr>\n",
       "    <tr>\n",
       "      <th>5</th>\n",
       "      <td>21903</td>\n",
       "      <td>3336</td>\n",
       "      <td>organic baby spinach</td>\n",
       "    </tr>\n",
       "    <tr>\n",
       "      <th>6</th>\n",
       "      <td>47766</td>\n",
       "      <td>3044</td>\n",
       "      <td>organic avocado</td>\n",
       "    </tr>\n",
       "    <tr>\n",
       "      <th>7</th>\n",
       "      <td>19660</td>\n",
       "      <td>2336</td>\n",
       "      <td>spring water</td>\n",
       "    </tr>\n",
       "    <tr>\n",
       "      <th>8</th>\n",
       "      <td>16797</td>\n",
       "      <td>2308</td>\n",
       "      <td>strawberries</td>\n",
       "    </tr>\n",
       "    <tr>\n",
       "      <th>9</th>\n",
       "      <td>27966</td>\n",
       "      <td>2024</td>\n",
       "      <td>organic raspberries</td>\n",
       "    </tr>\n",
       "    <tr>\n",
       "      <th>10</th>\n",
       "      <td>44632</td>\n",
       "      <td>1914</td>\n",
       "      <td>sparkling water grapefruit</td>\n",
       "    </tr>\n",
       "    <tr>\n",
       "      <th>11</th>\n",
       "      <td>49235</td>\n",
       "      <td>1797</td>\n",
       "      <td>organic half &amp; half</td>\n",
       "    </tr>\n",
       "    <tr>\n",
       "      <th>12</th>\n",
       "      <td>47626</td>\n",
       "      <td>1737</td>\n",
       "      <td>large lemon</td>\n",
       "    </tr>\n",
       "    <tr>\n",
       "      <th>13</th>\n",
       "      <td>196</td>\n",
       "      <td>1733</td>\n",
       "      <td>soda</td>\n",
       "    </tr>\n",
       "    <tr>\n",
       "      <th>14</th>\n",
       "      <td>38689</td>\n",
       "      <td>1397</td>\n",
       "      <td>organic reduced fat milk</td>\n",
       "    </tr>\n",
       "    <tr>\n",
       "      <th>15</th>\n",
       "      <td>26209</td>\n",
       "      <td>1370</td>\n",
       "      <td>limes</td>\n",
       "    </tr>\n",
       "    <tr>\n",
       "      <th>16</th>\n",
       "      <td>12341</td>\n",
       "      <td>1340</td>\n",
       "      <td>hass avocados</td>\n",
       "    </tr>\n",
       "    <tr>\n",
       "      <th>17</th>\n",
       "      <td>5785</td>\n",
       "      <td>1310</td>\n",
       "      <td>organic reduced fat 2% milk</td>\n",
       "    </tr>\n",
       "    <tr>\n",
       "      <th>18</th>\n",
       "      <td>27086</td>\n",
       "      <td>1309</td>\n",
       "      <td>half &amp; half</td>\n",
       "    </tr>\n",
       "    <tr>\n",
       "      <th>19</th>\n",
       "      <td>22935</td>\n",
       "      <td>1246</td>\n",
       "      <td>organic yellow onion</td>\n",
       "    </tr>\n",
       "  </tbody>\n",
       "</table>\n",
       "</div>"
      ],
      "text/plain": [
       "    product_id  frequency                 product_name\n",
       "0        24852      15562                       banana\n",
       "1        13176      11026       bag of organic bananas\n",
       "2        27845       4363           organic whole milk\n",
       "3        21137       3946         organic strawberries\n",
       "4        47209       3390         organic hass avocado\n",
       "5        21903       3336         organic baby spinach\n",
       "6        47766       3044              organic avocado\n",
       "7        19660       2336                 spring water\n",
       "8        16797       2308                 strawberries\n",
       "9        27966       2024          organic raspberries\n",
       "10       44632       1914   sparkling water grapefruit\n",
       "11       49235       1797          organic half & half\n",
       "12       47626       1737                  large lemon\n",
       "13         196       1733                         soda\n",
       "14       38689       1397     organic reduced fat milk\n",
       "15       26209       1370                        limes\n",
       "16       12341       1340                hass avocados\n",
       "17        5785       1310  organic reduced fat 2% milk\n",
       "18       27086       1309                  half & half\n",
       "19       22935       1246         organic yellow onion"
      ]
     },
     "execution_count": 71,
     "metadata": {},
     "output_type": "execute_result"
    }
   ],
   "source": [
    "top_20_items = top_first_items.merge(products_df[['product_id', 'product_name']], on='product_id', how='left')\n",
    "top_20_items"
   ]
  }
 ],
 "metadata": {
  "kernelspec": {
   "display_name": "Python 3 (ipykernel)",
   "language": "python",
   "name": "python3"
  },
  "language_info": {
   "codemirror_mode": {
    "name": "ipython",
    "version": 3
   },
   "file_extension": ".py",
   "mimetype": "text/x-python",
   "name": "python",
   "nbconvert_exporter": "python",
   "pygments_lexer": "ipython3",
   "version": "3.9.19"
  },
  "toc": {
   "base_numbering": 1,
   "nav_menu": {},
   "number_sections": true,
   "sideBar": true,
   "skip_h1_title": true,
   "title_cell": "Table of Contents",
   "title_sidebar": "Contents",
   "toc_cell": false,
   "toc_position": {
    "height": "calc(100% - 180px)",
    "left": "10px",
    "top": "150px",
    "width": "326.465px"
   },
   "toc_section_display": true,
   "toc_window_display": false
  },
  "vscode": {
   "interpreter": {
    "hash": "01a7be9ec63e704a62cefc5fe7a4756944464ee731be31632bdf42a4cb4688cf"
   }
  }
 },
 "nbformat": 4,
 "nbformat_minor": 5
}
